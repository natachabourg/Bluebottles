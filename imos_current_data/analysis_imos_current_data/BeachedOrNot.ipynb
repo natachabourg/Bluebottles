{
 "cells": [
  {
   "cell_type": "code",
   "execution_count": 72,
   "metadata": {},
   "outputs": [],
   "source": [
    "import numpy as np\n",
    "import scipy as sc\n",
    "import math\n",
    "from datetime import timedelta, datetime\n",
    "from operator import attrgetter\n",
    "import copy_plottrajectoriesfile as cpt\n",
    "import matplotlib.animation as animation\n",
    "import imageio #to make .gif out of multiple .png\n",
    "import matplotlib.pyplot as plt\n",
    "import scipy.io as sio #to load matlab file\n",
    "import xarray as xr\n",
    "from shapely.geometry import Point, Polygon\n",
    "from astropy.io import ascii\n",
    "from astropy.table import Table, Column"
   ]
  },
  {
   "cell_type": "code",
   "execution_count": 73,
   "metadata": {},
   "outputs": [],
   "source": [
    "\"\"\"\n",
    "Load polygons of beaching\n",
    "\"\"\"\n",
    "\n",
    "boundaries_poly = sio.loadmat('polygons_files/polygons_beaching.mat')"
   ]
  },
  {
   "cell_type": "code",
   "execution_count": 105,
   "metadata": {},
   "outputs": [],
   "source": [
    "\"\"\"\n",
    "Extract lon lat of polygon n5\n",
    "\"\"\"\n",
    "\n",
    "lon_poly = boundaries_poly['lon_pol5'][0]\n",
    "lat_poly = boundaries_poly['lat_pol5'][0]"
   ]
  },
  {
   "cell_type": "code",
   "execution_count": 106,
   "metadata": {},
   "outputs": [
    {
     "data": {
      "image/svg+xml": [
       "<svg xmlns=\"http://www.w3.org/2000/svg\" xmlns:xlink=\"http://www.w3.org/1999/xlink\" width=\"100.0\" height=\"100.0\" viewBox=\"-34.11682260131836 151.0872537841796 0.3304927368164101 0.3441478271485323\" preserveAspectRatio=\"xMinYMin meet\"><g transform=\"matrix(1,0,0,-1,0,302.5186553955077)\"><path fill-rule=\"evenodd\" fill=\"#66cc99\" stroke=\"#555555\" stroke-width=\"0.006882956542970647\" opacity=\"0.6\" d=\"M -34.09999999999997,151.09999999999994 L -33.99999999999997,151.09999999999994 L -33.89999999999997,151.09999999999994 L -33.79999999999997,151.09999999999994 L -33.799076080322266,151.4186553955078 L -33.809078216552734,151.4186553955078 L -33.81907653808594,151.4186553955078 L -33.82407760620117,151.4136505126953 L -33.829078674316406,151.40866088867188 L -33.83907699584961,151.40866088867188 L -33.84907913208008,151.40866088867188 L -33.85907745361328,151.40866088867188 L -33.864078521728516,151.40365600585938 L -33.86907958984375,151.39865112304688 L -33.87907791137695,151.39865112304688 L -33.889076232910156,151.39865112304688 L -33.89407730102539,151.39364624023438 L -33.899078369140625,151.38865661621094 L -33.90907669067383,151.38865661621094 L -33.9190788269043,151.38865661621094 L -33.9290771484375,151.38865661621094 L -33.934078216552734,151.38365173339844 L -33.93907928466797,151.37864685058594 L -33.94907760620117,151.37864685058594 L -33.954078674316406,151.3736572265625 L -33.959075927734375,151.36865234375 L -33.969078063964844,151.36865234375 L -33.97907638549805,151.36865234375 L -33.989078521728516,151.36865234375 L -33.99407958984375,151.3636474609375 L -33.99907684326172,151.35865783691406 L -34.00157928466797,151.35365295410156 L -34.00407791137695,151.34365844726562 L -34.00907897949219,151.33865356445312 L -34.014076232910156,151.33364868164062 L -34.014076232910156,151.3236541748047 L -34.01907730102539,151.3186492919922 L -34.024078369140625,151.31365966796875 L -34.02907943725586,151.30865478515625 L -34.03407669067383,151.30364990234375 L -34.03407669067383,151.2936553955078 L -34.03907775878906,151.29115295410156 L -34.04657745361328,151.28366088867188 L -34.049076080322266,151.28115844726562 L -34.059078216552734,151.27865600585938 L -34.06407928466797,151.27365112304688 L -34.06907653808594,151.26864624023438 L -34.07407760620117,151.26365661621094 L -34.079078674316406,151.25865173339844 L -34.084075927734375,151.25364685058594 L -34.08907699584961,151.2486572265625 L -34.094078063964844,151.24365234375 L -34.09907913208008,151.2386474609375 L -34.10407638549805,151.23365783691406 L -34.09999999999997,151.09999999999994 z\" /></g></svg>"
      ],
      "text/plain": [
       "<shapely.geometry.polygon.Polygon at 0x7f02380d5748>"
      ]
     },
     "execution_count": 106,
     "metadata": {},
     "output_type": "execute_result"
    }
   ],
   "source": [
    "\"\"\"\n",
    "Create polygon from lat/lon\n",
    "\"\"\"\n",
    "\n",
    "coords_poly = [(lat_poly[i],lon_poly[i]) for i in range(0,len(lon_poly))]\n",
    "poly = Polygon(coords_poly)\n",
    "poly"
   ]
  },
  {
   "cell_type": "code",
   "execution_count": 107,
   "metadata": {},
   "outputs": [],
   "source": [
    "\"\"\"\n",
    "Load particle trajectories output .nc file \n",
    "\"\"\"\n",
    "\n",
    "filename = 'nc_trajectory_files/trajectory.nc'\n",
    "file = xr.open_dataset(filename)"
   ]
  },
  {
   "cell_type": "code",
   "execution_count": 108,
   "metadata": {},
   "outputs": [],
   "source": [
    "\"\"\"\n",
    "Create Point objects for each timestep for each particle\n",
    "\"\"\"\n",
    "\n",
    "nb_particles = len(file['lat'])\n",
    "len_time =[len(file['lat'][i]) for i in range(0,(nb_particles))]\n",
    "\n",
    "def GetAllTimeCoords(i): #i is the number of the particle\n",
    "    coords=[]\n",
    "    for j in range(0,len(file['lat'][i])): #j is the time\n",
    "        coords.append((file['lat'][i][j],file['lon'][i][j]))\n",
    "    return coords\n",
    "\n",
    "coords_particle = []\n",
    "for i in range(0,nb_particles):\n",
    "    coords_particle.append(GetAllTimeCoords(i))\n",
    "\n",
    "p=[[] for i in range(0,nb_particles)]\n",
    "for i in range(0,nb_particles):\n",
    "    for j in range(0,len_time[i]):\n",
    "        p[i].append(Point(coords_particle[i][j]))"
   ]
  },
  {
   "cell_type": "code",
   "execution_count": 109,
   "metadata": {},
   "outputs": [],
   "source": [
    "\"\"\"\n",
    "Save time, lon, lat and number of the beached particles\n",
    "\"\"\"\n",
    "\n",
    "particle_beached, time_beached, lat_beached, lon_beached = [], [], [], []\n",
    "\n",
    "for i in range(0,nb_particles):\n",
    "    for j in range(0,len_time[i]):\n",
    "        if p[i][j].within(poly):\n",
    "            particle_beached.append(i)\n",
    "            time_beached.append(file['time'][i][j].data)\n",
    "            lat_beached.append(file['lat'][i][j].data)\n",
    "            lon_beached.append(file['lon'][i][j].data)\n",
    "\n",
    "beaching_table = Table([time_beached, particle_beached, lat_beached, lon_beached], names = ('time','particle #','lat','lon'))\n",
    "ascii.write(beaching_table, 'results_beaching/try_1.csv', format='csv', fast_writer=False, overwrite=True)  "
   ]
  },
  {
   "cell_type": "code",
   "execution_count": 111,
   "metadata": {},
   "outputs": [
    {
     "data": {
      "text/plain": [
       "(array([ 30.,  46.,  94., 188., 108., 128.,  63.,  52.,  59.,  56.]),\n",
       " array([736697. , 736699.8, 736702.6, 736705.4, 736708.2, 736711. ,\n",
       "        736713.8, 736716.6, 736719.4, 736722.2, 736725. ]),\n",
       " <a list of 10 Patch objects>)"
      ]
     },
     "execution_count": 111,
     "metadata": {},
     "output_type": "execute_result"
    },
    {
     "data": {
      "image/png": "[encoded data removed]",
      "text/plain": [
       "<Figure size 432x288 with 1 Axes>"
      ]
     },
     "metadata": {
      "needs_background": "light"
     },
     "output_type": "display_data"
    }
   ],
   "source": [
    "%matplotlib inline\n",
    "plt.hist(time_beached)"
   ]
  },
  {
   "cell_type": "code",
   "execution_count": 112,
   "metadata": {},
   "outputs": [
    {
     "data": {
      "text/plain": [
       "(array([ 30.,  46.,  94., 188., 108., 128.,  63.,  52.,  59.,  56.]),\n",
       " array([736697. , 736699.8, 736702.6, 736705.4, 736708.2, 736711. ,\n",
       "        736713.8, 736716.6, 736719.4, 736722.2, 736725. ]),\n",
       " <a list of 10 Patch objects>)"
      ]
     },
     "execution_count": 112,
     "metadata": {},
     "output_type": "execute_result"
    }
   ],
   "source": [
    "%matplotlib qt\n",
    "plt.hist(time_beached)"
   ]
  },
  {
   "cell_type": "code",
   "execution_count": null,
   "metadata": {},
   "outputs": [],
   "source": []
  },
  {
   "cell_type": "code",
   "execution_count": null,
   "metadata": {},
   "outputs": [],
   "source": []
  }
 ],
 "metadata": {
  "kernelspec": {
   "display_name": "Python 3",
   "language": "python",
   "name": "python3"
  },
  "language_info": {
   "codemirror_mode": {
    "name": "ipython",
    "version": 3
   },
   "file_extension": ".py",
   "mimetype": "text/x-python",
   "name": "python",
   "nbconvert_exporter": "python",
   "pygments_lexer": "ipython3",
   "version": "3.7.3"
  }
 },
 "nbformat": 4,
 "nbformat_minor": 2
}
