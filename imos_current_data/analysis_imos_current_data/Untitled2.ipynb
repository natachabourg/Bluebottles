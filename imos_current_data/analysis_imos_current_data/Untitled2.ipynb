{
 "cells": [
  {
   "cell_type": "code",
   "execution_count": 15,
   "metadata": {},
   "outputs": [],
   "source": [
    "import numpy as np\n",
    "import scipy as sc\n",
    "import math\n",
    "from datetime import timedelta, datetime\n",
    "from operator import attrgetter\n",
    "import copy_plottrajectoriesfile as cpt\n",
    "import matplotlib.animation as animation\n",
    "import imageio #to make .gif out of multiple .png\n",
    "import matplotlib.pyplot as plt\n",
    "import scipy.io as sio #to load matlab file\n",
    "import xarray as xr\n",
    "from shapely.geometry import Point, Polygon\n"
   ]
  },
  {
   "cell_type": "code",
   "execution_count": 2,
   "metadata": {},
   "outputs": [],
   "source": [
    "file=xr.open_dataset('trajectory_try.nc')"
   ]
  },
  {
   "cell_type": "code",
   "execution_count": 154,
   "metadata": {},
   "outputs": [],
   "source": [
    "file_time=xr.open_dataset('trajectory_try_diff_time.nc')"
   ]
  },
  {
   "cell_type": "code",
   "execution_count": 163,
   "metadata": {},
   "outputs": [
    {
     "data": {
      "text/plain": [
       "<xarray.DataArray 'time' ()>\n",
       "array('NaT', dtype='datetime64[ns]')\n",
       "Attributes:\n",
       "    long_name:      \n",
       "    standard_name:  time\n",
       "    axis:           T"
      ]
     },
     "execution_count": 163,
     "metadata": {},
     "output_type": "execute_result"
    }
   ],
   "source": [
    "file_time['time'][2][-1]"
   ]
  },
  {
   "cell_type": "code",
   "execution_count": 159,
   "metadata": {},
   "outputs": [
    {
     "data": {
      "text/plain": [
       "<xarray.DataArray 'time' (obs: 241)>\n",
       "array(['2018-01-11T00:00:00.000000000', '2018-01-11T01:00:00.000000000',\n",
       "       '2018-01-11T02:00:00.000000000', ...,                           'NaT',\n",
       "                                 'NaT',                           'NaT'],\n",
       "      dtype='datetime64[ns]')\n",
       "Dimensions without coordinates: obs\n",
       "Attributes:\n",
       "    long_name:      \n",
       "    standard_name:  time\n",
       "    axis:           T"
      ]
     },
     "execution_count": 159,
     "metadata": {},
     "output_type": "execute_result"
    }
   ],
   "source": [
    "file_time['time'][2]"
   ]
  },
  {
   "cell_type": "code",
   "execution_count": 16,
   "metadata": {},
   "outputs": [],
   "source": [
    "mat_boundaries = sio.loadmat('polygons_natacha.mat')"
   ]
  },
  {
   "cell_type": "code",
   "execution_count": 47,
   "metadata": {},
   "outputs": [],
   "source": [
    "#mat_boundaries['lon_pol4']"
   ]
  },
  {
   "cell_type": "code",
   "execution_count": 36,
   "metadata": {},
   "outputs": [],
   "source": [
    "coords = [(mat_boundaries['lat_pol4'][0][i],mat_boundaries['lon_pol4'][0][i]) for i in range(0,len(mat_boundaries['lon_pol4'][0]))]"
   ]
  },
  {
   "cell_type": "code",
   "execution_count": 18,
   "metadata": {},
   "outputs": [],
   "source": [
    "mat = sio.loadmat('polygons_natacha_list.mat')"
   ]
  },
  {
   "cell_type": "code",
   "execution_count": 40,
   "metadata": {},
   "outputs": [],
   "source": [
    "list_coords=coords[:-1]"
   ]
  },
  {
   "cell_type": "code",
   "execution_count": 96,
   "metadata": {},
   "outputs": [
    {
     "data": {
      "text/plain": [
       "tuple"
      ]
     },
     "execution_count": 96,
     "metadata": {},
     "output_type": "execute_result"
    }
   ],
   "source": [
    "type(list_coords[0])\n"
   ]
  },
  {
   "cell_type": "code",
   "execution_count": 45,
   "metadata": {},
   "outputs": [],
   "source": [
    "#(mat['list'][0][:-2])"
   ]
  },
  {
   "cell_type": "code",
   "execution_count": 24,
   "metadata": {},
   "outputs": [],
   "source": [
    "# Create Point objects\n",
    "p1 = Point(24.952242, 60.1696017)\n",
    "p2 = Point(24.976567, 60.1612500)\n",
    "\n",
    "# Create a Polygon\n",
    "coords = [(24.950899, 60.169158), (24.953492, 60.169158), (24.953510, 60.170104), (24.950958, 60.169990)]\n",
    "poly = Polygon(coords)"
   ]
  },
  {
   "cell_type": "code",
   "execution_count": 25,
   "metadata": {},
   "outputs": [
    {
     "data": {
      "image/svg+xml": [
       "<svg xmlns=\"http://www.w3.org/2000/svg\" xmlns:xlink=\"http://www.w3.org/1999/xlink\" width=\"100.0\" height=\"100.0\" viewBox=\"24.95079456 60.16905356 0.0028198800000041047 0.0011548800000014126\" preserveAspectRatio=\"xMinYMin meet\"><g transform=\"matrix(1,0,0,-1,0,120.339262)\"><path fill-rule=\"evenodd\" fill=\"#66cc99\" stroke=\"#555555\" stroke-width=\"5.639760000008209e-05\" opacity=\"0.6\" d=\"M 24.950899,60.169158 L 24.953492,60.169158 L 24.95351,60.170104 L 24.950958,60.16999 L 24.950899,60.169158 z\" /></g></svg>"
      ],
      "text/plain": [
       "<shapely.geometry.polygon.Polygon at 0x7f63d9cc3be0>"
      ]
     },
     "execution_count": 25,
     "metadata": {},
     "output_type": "execute_result"
    }
   ],
   "source": [
    "poly"
   ]
  },
  {
   "cell_type": "code",
   "execution_count": 41,
   "metadata": {},
   "outputs": [],
   "source": [
    "poly = Polygon(list_coords)"
   ]
  },
  {
   "cell_type": "code",
   "execution_count": 42,
   "metadata": {},
   "outputs": [
    {
     "data": {
      "image/svg+xml": [
       "<svg xmlns=\"http://www.w3.org/2000/svg\" xmlns:xlink=\"http://www.w3.org/1999/xlink\" width=\"100.0\" height=\"100.0\" viewBox=\"-34.54427795410156 150.85979995727533 1.0854011535644474 0.8090469360352301\" preserveAspectRatio=\"xMinYMin meet\"><g transform=\"matrix(1,0,0,-1,0,302.5286468505859)\"><path fill-rule=\"evenodd\" fill=\"#66cc99\" stroke=\"#555555\" stroke-width=\"0.02170802307128895\" opacity=\"0.6\" d=\"M -34.49999999999998,150.89999999999995 L -34.39999999999998,150.89999999999995 L -34.299999999999976,150.99999999999994 L -34.199999999999974,151.09999999999994 L -34.09999999999997,151.09999999999994 L -33.99999999999997,151.09999999999994 L -33.89999999999997,151.09999999999994 L -33.79999999999997,151.09999999999994 L -33.69999999999997,151.19999999999993 L -33.599999999999966,151.19999999999993 L -33.499999999999964,151.19999999999993 L -33.49907684326172,151.62864685058594 L -33.50407791137695,151.6236572265625 L -33.50907897949219,151.61865234375 L -33.514076232910156,151.6136474609375 L -33.51907730102539,151.60865783691406 L -33.52907943725586,151.60865783691406 L -33.53407669067383,151.60365295410156 L -33.53907775878906,151.59864807128906 L -33.5440788269043,151.59365844726562 L -33.549076080322266,151.58865356445312 L -33.559078216552734,151.58865356445312 L -33.56907653808594,151.58865356445312 L -33.579078674316406,151.58865356445312 L -33.584075927734375,151.58364868164062 L -33.58907699584961,151.5786590576172 L -33.594078063964844,151.5736541748047 L -33.59907913208008,151.5686492919922 L -33.60907745361328,151.5686492919922 L -33.614078521728516,151.56365966796875 L -33.61907958984375,151.55865478515625 L -33.62407684326172,151.55364990234375 L -33.62907791137695,151.5486602783203 L -33.63407897949219,151.5436553955078 L -33.639076232910156,151.5386505126953 L -33.64407730102539,151.53366088867188 L -33.64407730102539,151.52365112304688 L -33.649078369140625,151.51864624023438 L -33.65407943725586,151.51365661621094 L -33.65907669067383,151.50865173339844 L -33.66407775878906,151.50364685058594 L -33.6690788269043,151.4986572265625 L -33.674076080322266,151.49365234375 L -33.674076080322266,151.48365783691406 L -33.6790771484375,151.47865295410156 L -33.68907928466797,151.47865295410156 L -33.69407653808594,151.47364807128906 L -33.69907760620117,151.46865844726562 L -33.704078674316406,151.46365356445312 L -33.709075927734375,151.45864868164062 L -33.71407699584961,151.4536590576172 L -33.719078063964844,151.4486541748047 L -33.72907638549805,151.4486541748047 L -33.73407745361328,151.4436492919922 L -33.739078521728516,151.43865966796875 L -33.74907684326172,151.43865966796875 L -33.75407791137695,151.43365478515625 L -33.75907897949219,151.42864990234375 L -33.76907730102539,151.42864990234375 L -33.77907943725586,151.42864990234375 L -33.78907775878906,151.42864990234375 L -33.7940788269043,151.4236602783203 L -33.799076080322266,151.4186553955078 L -33.809078216552734,151.4186553955078 L -33.81907653808594,151.4186553955078 L -33.82407760620117,151.4136505126953 L -33.829078674316406,151.40866088867188 L -33.83907699584961,151.40866088867188 L -33.84907913208008,151.40866088867188 L -33.85907745361328,151.40866088867188 L -33.864078521728516,151.40365600585938 L -33.86907958984375,151.39865112304688 L -33.87907791137695,151.39865112304688 L -33.889076232910156,151.39865112304688 L -33.89407730102539,151.39364624023438 L -33.899078369140625,151.38865661621094 L -33.90907669067383,151.38865661621094 L -33.9190788269043,151.38865661621094 L -33.9290771484375,151.38865661621094 L -33.934078216552734,151.38365173339844 L -33.93907928466797,151.37864685058594 L -33.94907760620117,151.37864685058594 L -33.954078674316406,151.3736572265625 L -33.959075927734375,151.36865234375 L -33.969078063964844,151.36865234375 L -33.97907638549805,151.36865234375 L -33.989078521728516,151.36865234375 L -33.99407958984375,151.3636474609375 L -33.99907684326172,151.35865783691406 L -34.00157928466797,151.35365295410156 L -34.00407791137695,151.34365844726562 L -34.00907897949219,151.33865356445312 L -34.014076232910156,151.33364868164062 L -34.014076232910156,151.3236541748047 L -34.01907730102539,151.3186492919922 L -34.024078369140625,151.31365966796875 L -34.02907943725586,151.30865478515625 L -34.03407669067383,151.30364990234375 L -34.03407669067383,151.2936553955078 L -34.03907775878906,151.29115295410156 L -34.04657745361328,151.28366088867188 L -34.049076080322266,151.28115844726562 L -34.059078216552734,151.27865600585938 L -34.06407928466797,151.27365112304688 L -34.06907653808594,151.26864624023438 L -34.07407760620117,151.26365661621094 L -34.079078674316406,151.25865173339844 L -34.084075927734375,151.25364685058594 L -34.08907699584961,151.2486572265625 L -34.094078063964844,151.24365234375 L -34.09907913208008,151.2386474609375 L -34.10407638549805,151.23365783691406 L -34.10907745361328,151.22865295410156 L -34.114078521728516,151.22364807128906 L -34.11907958984375,151.21865844726562 L -34.12907791137695,151.21865844726562 L -34.13407897949219,151.21365356445312 L -34.139076232910156,151.20864868164062 L -34.14407730102539,151.2036590576172 L -34.149078369140625,151.1986541748047 L -34.15907669067383,151.1986541748047 L -34.16407775878906,151.1936492919922 L -34.1690788269043,151.18865966796875 L -34.1790771484375,151.18865966796875 L -34.184078216552734,151.18365478515625 L -34.18907928466797,151.17864990234375 L -34.19407653808594,151.1736602783203 L -34.19907760620117,151.1686553955078 L -34.209075927734375,151.1686553955078 L -34.21407699584961,151.1636505126953 L -34.219078063964844,151.15866088867188 L -34.22907638549805,151.15866088867188 L -34.239078521728516,151.15866088867188 L -34.24407958984375,151.15365600585938 L -34.24907684326172,151.14865112304688 L -34.25907897949219,151.14865112304688 L -34.264076232910156,151.14364624023438 L -34.26907730102539,151.13865661621094 L -34.27907943725586,151.13865661621094 L -34.28907775878906,151.13865661621094 L -34.2940788269043,151.13365173339844 L -34.299076080322266,151.12864685058594 L -34.3040771484375,151.1236572265625 L -34.309078216552734,151.11865234375 L -34.31907653808594,151.11865234375 L -34.329078674316406,151.11865234375 L -34.334075927734375,151.1136474609375 L -34.33907699584961,151.10865783691406 L -34.344078063964844,151.10365295410156 L -34.34907913208008,151.09864807128906 L -34.35907745361328,151.09864807128906 L -34.36907958984375,151.09864807128906 L -34.37907791137695,151.09864807128906 L -34.38407897949219,151.09365844726562 L -34.389076232910156,151.08865356445312 L -34.399078369140625,151.08865356445312 L -34.40907669067383,151.08865356445312 L -34.41407775878906,151.08364868164062 L -34.4190788269043,151.0786590576172 L -34.4290771484375,151.0786590576172 L -34.43907928466797,151.0786590576172 L -34.44407653808594,151.0736541748047 L -34.44907760620117,151.0686492919922 L -34.459075927734375,151.0686492919922 L -34.46407699584961,151.06365966796875 L -34.469078063964844,151.05865478515625 L -34.47407913208008,151.05364990234375 L -34.47907638549805,151.0486602783203 L -34.489078521728516,151.0486602783203 L -34.49407958984375,151.0436553955078 L -34.49907684326172,151.0386505126953 L -34.50407791137695,151.03366088867188 L -34.49999999999998,150.89999999999995 z\" /></g></svg>"
      ],
      "text/plain": [
       "<shapely.geometry.polygon.Polygon at 0x7f63d9a4ba90>"
      ]
     },
     "execution_count": 42,
     "metadata": {},
     "output_type": "execute_result"
    }
   ],
   "source": [
    "poly"
   ]
  },
  {
   "cell_type": "code",
   "execution_count": 43,
   "metadata": {},
   "outputs": [],
   "source": [
    "%matplotlib qt"
   ]
  },
  {
   "cell_type": "code",
   "execution_count": 54,
   "metadata": {},
   "outputs": [
    {
     "data": {
      "text/plain": [
       "<xarray.DataArray 'lat' ()>\n",
       "array(-32.98051, dtype=float32)\n",
       "Attributes:\n",
       "    long_name:      \n",
       "    standard_name:  latitude\n",
       "    units:          degrees_north\n",
       "    axis:           Y"
      ]
     },
     "execution_count": 54,
     "metadata": {},
     "output_type": "execute_result"
    }
   ],
   "source": [
    "(file['lat'][0][3])"
   ]
  },
  {
   "cell_type": "code",
   "execution_count": 97,
   "metadata": {},
   "outputs": [],
   "source": [
    "def Try(i):\n",
    "    liste=[]\n",
    "    for j in range(0,len(file['lat'][i])):\n",
    "        liste.append((file['lat'][i][j],file['lon'][i][j]))\n",
    "    return liste\n",
    "\n",
    "coords_particle = []\n",
    "for i in range(0,len(file['lat'])):\n",
    "    coords_particle.append(Try(i))"
   ]
  },
  {
   "cell_type": "code",
   "execution_count": 152,
   "metadata": {},
   "outputs": [],
   "source": [
    "p3, p8 = [], []\n",
    "for i in range(0,361):\n",
    "    p3.append(Point(coords_particle[2][i]))\n",
    "    p8.append(Point(coords_particle[7][i]))"
   ]
  },
  {
   "cell_type": "code",
   "execution_count": 153,
   "metadata": {},
   "outputs": [
    {
     "name": "stdout",
     "output_type": "stream",
     "text": [
      "105\n"
     ]
    }
   ],
   "source": [
    "for i in range(0,361):\n",
    "    if(p8[i].within(poly)):\n",
    "        print(i)\n",
    "        break"
   ]
  },
  {
   "cell_type": "code",
   "execution_count": null,
   "metadata": {},
   "outputs": [],
   "source": []
  },
  {
   "cell_type": "code",
   "execution_count": 150,
   "metadata": {},
   "outputs": [
    {
     "ename": "TypeError",
     "evalue": "float() argument must be a string or a number, not 'Point'",
     "output_type": "error",
     "traceback": [
      "\u001b[0;31m---------------------------------------------------------\u001b[0m",
      "\u001b[0;31mTypeError\u001b[0m               Traceback (most recent call last)",
      "\u001b[0;32m<ipython-input-150-9a35df48bad7>\u001b[0m in \u001b[0;36m<module>\u001b[0;34m\u001b[0m\n\u001b[0;32m----> 1\u001b[0;31m \u001b[0mnp\u001b[0m\u001b[0;34m.\u001b[0m\u001b[0many\u001b[0m\u001b[0;34m(\u001b[0m\u001b[0mnp\u001b[0m\u001b[0;34m.\u001b[0m\u001b[0masarray\u001b[0m\u001b[0;34m(\u001b[0m\u001b[0mp3\u001b[0m\u001b[0;34m)\u001b[0m\u001b[0;34m.\u001b[0m\u001b[0mwithin\u001b[0m\u001b[0;34m(\u001b[0m\u001b[0mpoly\u001b[0m\u001b[0;34m)\u001b[0m\u001b[0;34m)\u001b[0m\u001b[0;34m\u001b[0m\u001b[0;34m\u001b[0m\u001b[0m\n\u001b[0m",
      "\u001b[0;32m~/anaconda3/envs/py3_parcels/lib/python3.7/site-packages/numpy/core/numeric.py\u001b[0m in \u001b[0;36masarray\u001b[0;34m(a, dtype, order)\u001b[0m\n\u001b[1;32m    536\u001b[0m \u001b[0;34m\u001b[0m\u001b[0m\n\u001b[1;32m    537\u001b[0m     \"\"\"\n\u001b[0;32m--> 538\u001b[0;31m     \u001b[0;32mreturn\u001b[0m \u001b[0marray\u001b[0m\u001b[0;34m(\u001b[0m\u001b[0ma\u001b[0m\u001b[0;34m,\u001b[0m \u001b[0mdtype\u001b[0m\u001b[0;34m,\u001b[0m \u001b[0mcopy\u001b[0m\u001b[0;34m=\u001b[0m\u001b[0;32mFalse\u001b[0m\u001b[0;34m,\u001b[0m \u001b[0morder\u001b[0m\u001b[0;34m=\u001b[0m\u001b[0morder\u001b[0m\u001b[0;34m)\u001b[0m\u001b[0;34m\u001b[0m\u001b[0;34m\u001b[0m\u001b[0m\n\u001b[0m\u001b[1;32m    539\u001b[0m \u001b[0;34m\u001b[0m\u001b[0m\n\u001b[1;32m    540\u001b[0m \u001b[0;34m\u001b[0m\u001b[0m\n",
      "\u001b[0;31mTypeError\u001b[0m: float() argument must be a string or a number, not 'Point'"
     ]
    }
   ],
   "source": [
    "np.any(np.asarray(p3).within(poly))"
   ]
  },
  {
   "cell_type": "code",
   "execution_count": null,
   "metadata": {},
   "outputs": [],
   "source": []
  }
 ],
 "metadata": {
  "kernelspec": {
   "display_name": "Python 3",
   "language": "python",
   "name": "python3"
  },
  "language_info": {
   "codemirror_mode": {
    "name": "ipython",
    "version": 3
   },
   "file_extension": ".py",
   "mimetype": "text/x-python",
   "name": "python",
   "nbconvert_exporter": "python",
   "pygments_lexer": "ipython3",
   "version": "3.7.3"
  }
 },
 "nbformat": 4,
 "nbformat_minor": 2
}
