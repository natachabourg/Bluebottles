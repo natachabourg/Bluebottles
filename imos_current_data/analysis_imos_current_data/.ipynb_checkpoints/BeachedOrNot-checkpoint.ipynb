{
 "cells": [
  {
   "cell_type": "code",
   "execution_count": 72,
   "metadata": {},
   "outputs": [],
   "source": [
    "import numpy as np\n",
    "import scipy as sc\n",
    "import math\n",
    "from datetime import timedelta, datetime\n",
    "from operator import attrgetter\n",
    "import copy_plottrajectoriesfile as cpt\n",
    "import matplotlib.animation as animation\n",
    "import imageio #to make .gif out of multiple .png\n",
    "import matplotlib.pyplot as plt\n",
    "import scipy.io as sio #to load matlab file\n",
    "import xarray as xr\n",
    "from shapely.geometry import Point, Polygon\n",
    "from astropy.io import ascii\n",
    "from astropy.table import Table, Column"
   ]
  },
  {
   "cell_type": "code",
   "execution_count": 73,
   "metadata": {},
   "outputs": [],
   "source": [
    "\"\"\"\n",
    "Load polygons of beaching\n",
    "\"\"\"\n",
    "\n",
    "boundaries_poly = sio.loadmat('polygons_files/polygons_beaching.mat')"
   ]
  },
  {
   "cell_type": "code",
   "execution_count": 74,
   "metadata": {},
   "outputs": [],
   "source": [
    "\"\"\"\n",
    "Extract lon lat of polygon n5\n",
    "\"\"\"\n",
    "\n",
    "lon_poly = boundaries_poly['lon_pol5']\n",
    "lat_poly = boundaries_poly['lat_pol5']"
   ]
  },
  {
   "cell_type": "code",
   "execution_count": 75,
   "metadata": {},
   "outputs": [],
   "source": [
    "\"\"\"\n",
    "Create polygon from lat/lon\n",
    "\"\"\"\n",
    "\n",
    "coords_poly = [(lat_poly[0][i],lon_poly[0][i]) for i in range(0,len(lon_poly[0]))]\n",
    "poly = Polygon(coords_poly)"
   ]
  },
  {
   "cell_type": "code",
   "execution_count": 76,
   "metadata": {},
   "outputs": [],
   "source": [
    "\"\"\"\n",
    "Load particle trajectories output .nc file \n",
    "\"\"\"\n",
    "\n",
    "filename = 'nc_trajectory_files/RR.nc'\n",
    "file = xr.open_dataset(filename)"
   ]
  },
  {
   "cell_type": "code",
   "execution_count": 77,
   "metadata": {},
   "outputs": [],
   "source": [
    "\"\"\"\n",
    "Create Point objects for each timestep for each particle\n",
    "\"\"\"\n",
    "\n",
    "nb_particles = len(file['lat'])\n",
    "len_time =[len(file['lat'][i]) for i in range(0,(nb_particles))]\n",
    "\n",
    "def GetAllTimeCoords(i): #i is the number of the particle\n",
    "    coords=[]\n",
    "    for j in range(0,len(file['lat'][i])): #j is the time\n",
    "        coords.append((file['lat'][i][j],file['lon'][i][j]))\n",
    "    return coords\n",
    "\n",
    "coords_particle = []\n",
    "for i in range(0,nb_particles):\n",
    "    coords_particle.append(GetAllTimeCoords(i))\n",
    "\n",
    "p=[[] for i in range(0,nb_particles)]\n",
    "for i in range(0,nb_particles):\n",
    "    for j in range(0,len_time[i]):\n",
    "        p[i].append(Point(coords_particle[i][j]))"
   ]
  },
  {
   "cell_type": "code",
   "execution_count": 83,
   "metadata": {},
   "outputs": [],
   "source": [
    "particle_beached, time_beached, lat_beached, lon_beached = [], [], [], []\n",
    "\n",
    "for i in range(0,nb_particles):\n",
    "    for j in range(0,len_time[i]):\n",
    "        if p[i][j].within(poly):\n",
    "            particle_beached.append(i)\n",
    "            time_beached.append(file['time'][i][j])\n",
    "            lat_beached.append(file['lat'][i][j])\n",
    "            lon_beached.append(file['lon'][i][j])\n",
    "\n",
    "time_beached_array=[np.asarray(time_beached[i]) for i in range(0,len(time_beached))]\n",
    "lat_beached_array=[np.asarray(lat_beached[i]) for i in range(0,len(lat_beached))]\n",
    "lon_beached_array=[np.asarray(lon_beached[i]) for i in range(0,len(lon_beached))]\n",
    "\n",
    "\n",
    "beaching_table = Table([time_beached_array, particle_beached, lat_beached_array, lon_beached_array], names = ('particle #','time','lat','lon'))\n",
    "ascii.write(beaching_table, 'results_beaching/try_0.csv', format='csv', fast_writer=False, overwrite=False)  "
   ]
  },
  {
   "cell_type": "code",
   "execution_count": null,
   "metadata": {},
   "outputs": [],
   "source": []
  },
  {
   "cell_type": "code",
   "execution_count": null,
   "metadata": {},
   "outputs": [],
   "source": []
  },
  {
   "cell_type": "code",
   "execution_count": null,
   "metadata": {},
   "outputs": [],
   "source": []
  }
 ],
 "metadata": {
  "kernelspec": {
   "display_name": "Python 3",
   "language": "python",
   "name": "python3"
  },
  "language_info": {
   "codemirror_mode": {
    "name": "ipython",
    "version": 3
   },
   "file_extension": ".py",
   "mimetype": "text/x-python",
   "name": "python",
   "nbconvert_exporter": "python",
   "pygments_lexer": "ipython3",
   "version": "3.7.3"
  }
 },
 "nbformat": 4,
 "nbformat_minor": 2
}
