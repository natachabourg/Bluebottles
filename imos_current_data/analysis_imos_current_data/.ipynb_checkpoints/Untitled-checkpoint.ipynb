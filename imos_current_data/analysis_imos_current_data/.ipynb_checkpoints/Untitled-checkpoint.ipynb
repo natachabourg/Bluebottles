{
 "cells": [
  {
   "cell_type": "code",
   "execution_count": 8,
   "metadata": {},
   "outputs": [
    {
     "name": "stdout",
     "output_type": "stream",
     "text": [
      "<parcels.fieldset.FieldSet object at 0x7f9b503829b0>\n"
     ]
    }
   ],
   "source": [
    "\n",
    "from parcels import FieldSet, ParticleSet, Variable, JITParticle, AdvectionRK4, plotTrajectoriesFile, ErrorCode\n",
    "import numpy as np\n",
    "import math\n",
    "from datetime import timedelta, datetime\n",
    "from operator import attrgetter\n",
    "import copy_plottrajectoriesfile as cpt\n",
    "import matplotlib.animation as animation\n",
    "import imageio\n",
    "\n",
    "def PlotImosFile(filenames):\n",
    "    \n",
    "    \"\"\"\n",
    "    Plot trajectory of particles in a current field (input in .nc) \n",
    "    \"\"\"\n",
    "                \n",
    "    variables = {'U' : 'UCUR',\n",
    "                'V' : 'VCUR'}\n",
    "    dimensions = {'lat' : 'LATITUDE',\n",
    "                  'lon' : 'LONGITUDE',\n",
    "                  'time' : 'TIME'}\n",
    "\n",
    "    def WestVel(particle, fieldset, time):\n",
    "        if time > 86400:\n",
    "            uvel = -0.02\n",
    "            particle.lon += uvel * particle.dt\n",
    "      \n",
    "    def DeleteParticle(particle, fieldset, time):\n",
    "        particle.delete()\n",
    "    images = []\n",
    "    fieldset = FieldSet.from_netcdf(filenames, variables, dimensions)\n",
    "    print(fieldset)\n",
    "    \n",
    "    \n",
    "filenames = \"../raw_imos_current_data/IMOS_OceanCurrent_HV_2019_C-20190520T232835Z.nc\"\n",
    "PlotImosFile(filenames)"
   ]
  },
  {
   "cell_type": "code",
   "execution_count": 5,
   "metadata": {},
   "outputs": [
    {
     "ename": "NameError",
     "evalue": "name 'fieldset' is not defined",
     "output_type": "error",
     "traceback": [
      "\u001b[0;31m---------------------------------------------------------------------------\u001b[0m",
      "\u001b[0;31mNameError\u001b[0m                                 Traceback (most recent call last)",
      "\u001b[0;32m<ipython-input-5-21522befb8d1>\u001b[0m in \u001b[0;36m<module>\u001b[0;34m\u001b[0m\n\u001b[0;32m----> 1\u001b[0;31m \u001b[0mfieldset\u001b[0m\u001b[0;34m.\u001b[0m\u001b[0mshape\u001b[0m\u001b[0;34m(\u001b[0m\u001b[0;34m)\u001b[0m\u001b[0;34m\u001b[0m\u001b[0;34m\u001b[0m\u001b[0m\n\u001b[0m",
      "\u001b[0;31mNameError\u001b[0m: name 'fieldset' is not defined"
     ]
    }
   ],
   "source": [
    "fieldset.shape()"
   ]
  },
  {
   "cell_type": "code",
   "execution_count": null,
   "metadata": {},
   "outputs": [],
   "source": []
  }
 ],
 "metadata": {
  "kernelspec": {
   "display_name": "Python 3",
   "language": "python",
   "name": "python3"
  },
  "language_info": {
   "codemirror_mode": {
    "name": "ipython",
    "version": 3
   },
   "file_extension": ".py",
   "mimetype": "text/x-python",
   "name": "python",
   "nbconvert_exporter": "python",
   "pygments_lexer": "ipython3",
   "version": "3.7.3"
  }
 },
 "nbformat": 4,
 "nbformat_minor": 2
}
