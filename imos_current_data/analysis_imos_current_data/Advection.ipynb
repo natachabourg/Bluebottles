{
 "cells": [
  {
   "cell_type": "code",
   "execution_count": 24,
   "metadata": {
    "scrolled": true
   },
   "outputs": [
    {
     "name": "stdout",
     "output_type": "stream",
     "text": [
      "<class 'netCDF4._netCDF4.Variable'>\n",
      "float64 TIME(TIME)\n",
      "    long_name: analysis time\n",
      "    standard_name: time\n",
      "    units: days since 1985-01-01 00:00:00+00:00\n",
      "    coordinate_type: TIME\n",
      "    calendar: gregorian\n",
      "unlimited dimensions: TIME\n",
      "current shape = (111,)\n",
      "filling on, default _FillValue of 9.969209968386869e+36 used\n",
      "\n"
     ]
    }
   ],
   "source": [
    "from parcels import FieldSet, ParticleSet, Variable, JITParticle, AdvectionRK4, plotTrajectoriesFile, ErrorCode\n",
    "import numpy as np\n",
    "import scipy as sc\n",
    "import math\n",
    "from datetime import timedelta, datetime\n",
    "from operator import attrgetter\n",
    "import copy_plottrajectoriesfile as cpt\n",
    "import matplotlib.animation as animation\n",
    "import imageio #to make .gif out of multiple .png\n",
    "import matplotlib.pyplot as plt\n",
    "import scipy.io as sio #to load matlab file\n",
    "\n",
    "\"\"\"\n",
    "Load IMOS raw data\n",
    "\"\"\"\n",
    "filenames = \"../raw_imos_current_data/IMOS_OceanCurrent_HV_2019_C-20190520T232835Z.nc\"\n",
    "variables = {'U' : 'UCUR',\n",
    "                'V' : 'VCUR'}\n",
    "dimensions = {'lat' : 'LATITUDE',\n",
    "                  'lon' : 'LONGITUDE',\n",
    "                  'time' : 'TIME'}\n",
    "fieldset_imos = FieldSet.from_netcdf(filenames, variables, dimensions, deferred_load=False)\n",
    "\n",
    "\"\"\"\n",
    "Take TIME variable from the IMOS raw data\n",
    "\"\"\"\n",
    "from netCDF4 import Dataset\n",
    "dataset=Dataset(filenames)\n",
    "print(dataset.variables['TIME'])\n",
    "time_imos=np.array(dataset.variables['TIME'])"
   ]
  },
  {
   "cell_type": "code",
   "execution_count": 25,
   "metadata": {},
   "outputs": [
    {
     "data": {
      "text/plain": [
       "(111, 351, 641)"
      ]
     },
     "execution_count": 25,
     "metadata": {},
     "output_type": "execute_result"
    }
   ],
   "source": [
    "fieldset_imos.U.data.shape"
   ]
  },
  {
   "cell_type": "code",
   "execution_count": 26,
   "metadata": {},
   "outputs": [],
   "source": [
    "\"\"\"\n",
    "Change U and V shape \n",
    "\"\"\"\n",
    "\n",
    "lati=fieldset_imos.U.lat\n",
    "longi=fieldset_imos.U.lon\n",
    "ucur=fieldset_imos.U.data\n",
    "vcur=fieldset_imos.V.data\n",
    "u_imos=[]\n",
    "v_imos=[]\n",
    "grid_imos=[[],[]]\n",
    "\n",
    "for i in range(len(lati)): #Create grid of IMOS latitude longitude\n",
    "    for j in range(len(longi)):\n",
    "        grid_imos[0].append(lati[i])\n",
    "        grid_imos[1].append(longi[j]) \n",
    "grid_imos=np.asarray(grid_imos).T\n",
    "\n",
    "for t in range(len(ucur)): #for every time step\n",
    "    values_u=[]\n",
    "    values_v=[]\n",
    "    for i in range(len(lati)): #take U and V for every couple (lati,longi)\n",
    "        for j in range(len(longi)):\n",
    "            values_u.append(ucur[t,i,j])\n",
    "            values_v.append(vcur[t,i,j])\n",
    "    u_imos.append(np.asarray(values_u))\n",
    "    v_imos.append(np.asarray(values_v))\n",
    "\n",
    "\"\"\"\n",
    "Create grid for extrapolated data (resolution 0.1 degree)\n",
    "\"\"\"\n",
    "\n",
    "grid_lat,grid_lon = np.mgrid[-24:-36:120j, 150:160:100j] \n",
    "grid_exp=(grid_lat,grid_lon)"
   ]
  },
  {
   "cell_type": "code",
   "execution_count": 27,
   "metadata": {},
   "outputs": [
    {
     "name": "stdout",
     "output_type": "stream",
     "text": [
      "number 0 done\n",
      "number 1 done\n",
      "number 2 done\n",
      "number 3 done\n",
      "number 4 done\n",
      "number 5 done\n",
      "number 6 done\n",
      "number 7 done\n",
      "number 8 done\n",
      "number 9 done\n",
      "number 10 done\n",
      "number 11 done\n",
      "number 12 done\n",
      "number 13 done\n",
      "number 14 done\n",
      "number 15 done\n",
      "number 16 done\n",
      "number 17 done\n",
      "number 18 done\n",
      "number 19 done\n",
      "number 20 done\n",
      "number 21 done\n",
      "number 22 done\n",
      "number 23 done\n",
      "number 24 done\n",
      "number 25 done\n",
      "number 26 done\n",
      "number 27 done\n",
      "number 28 done\n",
      "number 29 done\n",
      "number 30 done\n",
      "number 31 done\n",
      "number 32 done\n",
      "number 33 done\n",
      "number 34 done\n",
      "number 35 done\n",
      "number 36 done\n",
      "number 37 done\n",
      "number 38 done\n",
      "number 39 done\n",
      "number 40 done\n",
      "number 41 done\n",
      "number 42 done\n",
      "number 43 done\n",
      "number 44 done\n",
      "number 45 done\n",
      "number 46 done\n",
      "number 47 done\n",
      "number 48 done\n",
      "number 49 done\n",
      "number 50 done\n",
      "number 51 done\n",
      "number 52 done\n",
      "number 53 done\n",
      "number 54 done\n",
      "number 55 done\n",
      "number 56 done\n",
      "number 57 done\n",
      "number 58 done\n",
      "number 59 done\n",
      "number 60 done\n",
      "number 61 done\n",
      "number 62 done\n",
      "number 63 done\n",
      "number 64 done\n",
      "number 65 done\n",
      "number 66 done\n",
      "number 67 done\n",
      "number 68 done\n",
      "number 69 done\n",
      "number 70 done\n",
      "number 71 done\n",
      "number 72 done\n",
      "number 73 done\n",
      "number 74 done\n",
      "number 75 done\n",
      "number 76 done\n",
      "number 77 done\n",
      "number 78 done\n",
      "number 79 done\n",
      "number 80 done\n",
      "number 81 done\n",
      "number 82 done\n",
      "number 83 done\n",
      "number 84 done\n",
      "number 85 done\n",
      "number 86 done\n",
      "number 87 done\n",
      "number 88 done\n",
      "number 89 done\n",
      "number 90 done\n",
      "number 91 done\n",
      "number 92 done\n",
      "number 93 done\n",
      "number 94 done\n",
      "number 95 done\n",
      "number 96 done\n",
      "number 97 done\n",
      "number 98 done\n",
      "number 99 done\n",
      "number 100 done\n",
      "number 101 done\n",
      "number 102 done\n",
      "number 103 done\n",
      "number 104 done\n",
      "number 105 done\n",
      "number 106 done\n",
      "number 107 done\n",
      "number 108 done\n",
      "number 109 done\n",
      "number 110 done\n"
     ]
    }
   ],
   "source": [
    "\"\"\"\n",
    "Extrapolate U and V data from grid_imos to grid_exp for each time step\n",
    "\"\"\"\n",
    "\n",
    "u_ext=[[] for i in range(len(u_imos))]\n",
    "v_ext=[[] for i in range(len(v_imos))]\n",
    "for i in range(len(u_imos)):\n",
    "    u_ext[i] = sc.interpolate.griddata(grid_imos, u_imos[i], grid_exp, method='linear')\n",
    "    v_ext[i] = sc.interpolate.griddata(grid_imos, v_imos[i], grid_exp, method='linear')\n",
    "    print(\"number \"+str(i)+\" done\")"
   ]
  },
  {
   "cell_type": "code",
   "execution_count": 8,
   "metadata": {},
   "outputs": [],
   "source": [
    "\"\"\"\n",
    "time_imos float to datetime object\n",
    "\"\"\"\n",
    "\n",
    "time=[]\n",
    "for i in range(len(time_imos)):\n",
    "    time.append(datetime.timestamp(datetime(1985,1,1,0,0,0)+timedelta(days=time_imos[i])))"
   ]
  },
  {
   "cell_type": "code",
   "execution_count": 9,
   "metadata": {},
   "outputs": [
    {
     "data": {
      "text/plain": [
       "datetime.datetime(2019, 1, 1, 0, 0)"
      ]
     },
     "execution_count": 9,
     "metadata": {},
     "output_type": "execute_result"
    }
   ],
   "source": [
    "datetime.fromtimestamp(time[0])"
   ]
  },
  {
   "cell_type": "code",
   "execution_count": 10,
   "metadata": {},
   "outputs": [],
   "source": [
    "\"\"\"\n",
    "Create fieldset with extrapolated data\n",
    "\"\"\"\n",
    "\n",
    "u_ext = np.array(u_ext,dtype=np.float64)\n",
    "v_ext = np.array(v_ext,dtype=np.float64)\n",
    "time_ext = np.array(time,dtype=np.float64)\n",
    "data = {'U' : u_ext,\n",
    "        'V' : v_ext}\n",
    "dims = {'lon' : grid_lon,\n",
    "        'lat' : grid_lat,\n",
    "        'time' : time_ext}\n",
    "\n",
    "fieldset_ext = FieldSet.from_data(data, dims, allow_time_extrapolation=True)"
   ]
  },
  {
   "cell_type": "code",
   "execution_count": 11,
   "metadata": {},
   "outputs": [
    {
     "data": {
      "text/plain": [
       "110"
      ]
     },
     "execution_count": 11,
     "metadata": {},
     "output_type": "execute_result"
    }
   ],
   "source": [
    "t"
   ]
  },
  {
   "cell_type": "code",
   "execution_count": 12,
   "metadata": {},
   "outputs": [],
   "source": [
    "%matplotlib qt"
   ]
  },
  {
   "cell_type": "code",
   "execution_count": 23,
   "metadata": {},
   "outputs": [],
   "source": [
    "\"\"\"\n",
    "Compare before and after data extrapolation\n",
    "\"\"\"\n",
    "fieldset_imos.U.show(domain={'N':-24, 'S':-36, 'E':160, 'W':150},land=False,show_time=time_imos[0])\n",
    "fieldset_ext.U.show(land=False,show_time=time_ext[0])"
   ]
  },
  {
   "cell_type": "code",
   "execution_count": 28,
   "metadata": {},
   "outputs": [
    {
     "name": "stdout",
     "output_type": "stream",
     "text": [
      "P[5](lon=151.265579, lat=-33.949703, depth=0.000000, time=1546261200.000000)\n"
     ]
    },
    {
     "name": "stderr",
     "output_type": "stream",
     "text": [
      "INFO: Compiled JITParticleAdvectionRK4 ==> /tmp/parcels-13529592/ea82347c0fa1f3e67d1212c1e1715f79.so\n"
     ]
    }
   ],
   "source": [
    "def DeleteParticle(particle, fieldset, time):\n",
    "    particle.delete()\n",
    "\n",
    "pset = ParticleSet.from_list(fieldset=fieldset_ext,\n",
    "                             pclass=JITParticle,\n",
    "                             lon=[151.265574],\n",
    "                             lat=[-33.949705],\n",
    "                             time=time[0])\n",
    "#pset.show()\n",
    "print(pset)\n",
    "\n",
    "pset.execute(AdvectionRK4, #Only driven by currents\n",
    "             runtime=timedelta(days=1), \n",
    "             dt=timedelta(minutes=5), #dt<0 : backwards tracking\n",
    "             recovery={ErrorCode.ErrorOutOfBounds: DeleteParticle}, #Delete particles when out of bounds\n",
    "             output_file=pset.ParticleFile(name=\"TRY.nc\", outputdt=timedelta(hours=1)))\n",
    "#pset.show()\n",
    "#print(pset)\n",
    "#plotTrajectoriesFile('TRY.nc', mode='movie2d_notebook') #plot trajectory without the field on background\n",
    "\n",
    "#images=[]\n",
    "#for i in range(10):\n",
    "#    pset.show(savefile='../outputs_imos_current_data/make_gif/particle_try_'+str(i),field='vector', vmin=0., vmax=1.5,land=False,show_time=time[i])\n",
    " #   images.append(imageio.imread('../outputs_imos_current_data/make_gif/particle_try_'+str(i)+'.png'))\n",
    "#imageio.mimsave('../outputs_imos_current_data/particle_advection_reverse2.gif', images)"
   ]
  },
  {
   "cell_type": "code",
   "execution_count": 144,
   "metadata": {
    "scrolled": false
   },
   "outputs": [
    {
     "name": "stderr",
     "output_type": "stream",
     "text": [
      "INFO: Compiled JITParticleAdvectionRK4 ==> /tmp/parcels-13529592/07ffc8c1a4d8575ec39ae7b251574fea.so\n",
      "INFO: Plot saved to ../outputs_imos_current_data/make_gif/particle_try_0.png\n",
      "/home/z3529592/anaconda3/envs/py3_parcels/lib/python3.7/site-packages/cartopy/mpl/geoaxes.py:1752: RuntimeWarning: invalid value encountered in less\n",
      "  u, v = self.projection.transform_vectors(t, x, y, u, v)\n",
      "/home/z3529592/anaconda3/envs/py3_parcels/lib/python3.7/site-packages/cartopy/mpl/geoaxes.py:1752: RuntimeWarning: invalid value encountered in greater\n",
      "  u, v = self.projection.transform_vectors(t, x, y, u, v)\n",
      "INFO: Plot saved to ../outputs_imos_current_data/make_gif/particle_try_1.png\n",
      "INFO: Plot saved to ../outputs_imos_current_data/make_gif/particle_try_2.png\n",
      "INFO: Plot saved to ../outputs_imos_current_data/make_gif/particle_try_3.png\n",
      "INFO: Plot saved to ../outputs_imos_current_data/make_gif/particle_try_4.png\n",
      "INFO: Plot saved to ../outputs_imos_current_data/make_gif/particle_try_5.png\n",
      "INFO: Plot saved to ../outputs_imos_current_data/make_gif/particle_try_6.png\n",
      "INFO: Plot saved to ../outputs_imos_current_data/make_gif/particle_try_7.png\n",
      "INFO: Plot saved to ../outputs_imos_current_data/make_gif/particle_try_8.png\n",
      "INFO: Plot saved to ../outputs_imos_current_data/make_gif/particle_try_9.png\n"
     ]
    }
   ],
   "source": [
    "images=[] #list that will take all the .png outputs\n",
    "pset.execute(AdvectionRK4, \n",
    "             runtime=timedelta(days=10), \n",
    "             dt=-timedelta(minutes=5), \n",
    "             recovery={ErrorCode.ErrorOutOfBounds: DeleteParticle})\n",
    "\n",
    "for i in range(10):\n",
    "    pset.show(savefile='../outputs_imos_current_data/make_gif/particle_try_'+str(i),field='vector', vmin=0., vmax=1.5,land=False,show_time=time[i])\n",
    "    images.append(imageio.imread('../outputs_imos_current_data/make_gif/particle_try_'+str(i)+'.png'))\n",
    "imageio.mimsave('../outputs_imos_current_data/particle_advection_reverse2.gif', images)"
   ]
  },
  {
   "cell_type": "code",
   "execution_count": 12,
   "metadata": {},
   "outputs": [
    {
     "data": {
      "text/plain": [
       "86400.0"
      ]
     },
     "execution_count": 12,
     "metadata": {},
     "output_type": "execute_result"
    }
   ],
   "source": [
    "time[9]-time[8]"
   ]
  },
  {
   "cell_type": "code",
   "execution_count": 14,
   "metadata": {},
   "outputs": [
    {
     "name": "stderr",
     "output_type": "stream",
     "text": [
      "INFO: Compiled JITParticleAdvectionRK4 ==> /tmp/parcels-13529592/6b9e330dd7caa9b2a594ed313fe036bd.so\n",
      "WARNING: dt or runtime are zero, or endtime is equal to Particle.time. The kernels will be executed once, without incrementing time\n",
      "/home/z3529592/anaconda3/envs/py3_parcels/lib/python3.7/site-packages/cartopy/mpl/geoaxes.py:1752: RuntimeWarning: invalid value encountered in less\n",
      "  u, v = self.projection.transform_vectors(t, x, y, u, v)\n",
      "/home/z3529592/anaconda3/envs/py3_parcels/lib/python3.7/site-packages/cartopy/mpl/geoaxes.py:1752: RuntimeWarning: invalid value encountered in greater\n",
      "  u, v = self.projection.transform_vectors(t, x, y, u, v)\n",
      "INFO: Plot saved to ../outputs_imos_current_data/make_gif/particle_try_0.png\n",
      "INFO: Plot saved to ../outputs_imos_current_data/make_gif/particle_try_1.png\n",
      "INFO: Plot saved to ../outputs_imos_current_data/make_gif/particle_try_2.png\n",
      "INFO: Plot saved to ../outputs_imos_current_data/make_gif/particle_try_3.png\n",
      "INFO: Plot saved to ../outputs_imos_current_data/make_gif/particle_try_4.png\n",
      "INFO: Plot saved to ../outputs_imos_current_data/make_gif/particle_try_5.png\n",
      "INFO: Plot saved to ../outputs_imos_current_data/make_gif/particle_try_6.png\n",
      "INFO: Plot saved to ../outputs_imos_current_data/make_gif/particle_try_7.png\n",
      "INFO: Plot saved to ../outputs_imos_current_data/make_gif/particle_try_8.png\n",
      "INFO: Plot saved to ../outputs_imos_current_data/make_gif/particle_try_9.png\n",
      "INFO: Plot saved to ../outputs_imos_current_data/make_gif/particle_try_10.png\n",
      "INFO: Plot saved to ../outputs_imos_current_data/make_gif/particle_try_11.png\n",
      "INFO: Plot saved to ../outputs_imos_current_data/make_gif/particle_try_12.png\n",
      "INFO: Plot saved to ../outputs_imos_current_data/make_gif/particle_try_13.png\n",
      "INFO: Plot saved to ../outputs_imos_current_data/make_gif/particle_try_14.png\n",
      "INFO: Plot saved to ../outputs_imos_current_data/make_gif/particle_try_15.png\n",
      "INFO: Plot saved to ../outputs_imos_current_data/make_gif/particle_try_16.png\n",
      "INFO: Plot saved to ../outputs_imos_current_data/make_gif/particle_try_17.png\n",
      "INFO: Plot saved to ../outputs_imos_current_data/make_gif/particle_try_18.png\n",
      "INFO: Plot saved to ../outputs_imos_current_data/make_gif/particle_try_19.png\n",
      "INFO: Plot saved to ../outputs_imos_current_data/make_gif/particle_try_20.png\n",
      "INFO: Plot saved to ../outputs_imos_current_data/make_gif/particle_try_21.png\n",
      "INFO: Plot saved to ../outputs_imos_current_data/make_gif/particle_try_22.png\n",
      "INFO: Plot saved to ../outputs_imos_current_data/make_gif/particle_try_23.png\n",
      "INFO: Plot saved to ../outputs_imos_current_data/make_gif/particle_try_24.png\n",
      "INFO: Plot saved to ../outputs_imos_current_data/make_gif/particle_try_25.png\n",
      "INFO: Plot saved to ../outputs_imos_current_data/make_gif/particle_try_26.png\n",
      "INFO: Plot saved to ../outputs_imos_current_data/make_gif/particle_try_27.png\n",
      "INFO: Plot saved to ../outputs_imos_current_data/make_gif/particle_try_28.png\n",
      "INFO: Plot saved to ../outputs_imos_current_data/make_gif/particle_try_29.png\n",
      "INFO: Plot saved to ../outputs_imos_current_data/make_gif/particle_try_30.png\n",
      "INFO: Plot saved to ../outputs_imos_current_data/make_gif/particle_try_31.png\n",
      "INFO: Plot saved to ../outputs_imos_current_data/make_gif/particle_try_32.png\n",
      "INFO: Plot saved to ../outputs_imos_current_data/make_gif/particle_try_33.png\n",
      "INFO: Plot saved to ../outputs_imos_current_data/make_gif/particle_try_34.png\n",
      "INFO: Plot saved to ../outputs_imos_current_data/make_gif/particle_try_35.png\n",
      "INFO: Plot saved to ../outputs_imos_current_data/make_gif/particle_try_36.png\n",
      "INFO: Plot saved to ../outputs_imos_current_data/make_gif/particle_try_37.png\n",
      "INFO: Plot saved to ../outputs_imos_current_data/make_gif/particle_try_38.png\n",
      "INFO: Plot saved to ../outputs_imos_current_data/make_gif/particle_try_39.png\n",
      "INFO: Plot saved to ../outputs_imos_current_data/make_gif/particle_try_40.png\n",
      "INFO: Plot saved to ../outputs_imos_current_data/make_gif/particle_try_41.png\n",
      "INFO: Plot saved to ../outputs_imos_current_data/make_gif/particle_try_42.png\n",
      "INFO: Plot saved to ../outputs_imos_current_data/make_gif/particle_try_43.png\n",
      "INFO: Plot saved to ../outputs_imos_current_data/make_gif/particle_try_44.png\n",
      "INFO: Plot saved to ../outputs_imos_current_data/make_gif/particle_try_45.png\n",
      "INFO: Plot saved to ../outputs_imos_current_data/make_gif/particle_try_46.png\n",
      "INFO: Plot saved to ../outputs_imos_current_data/make_gif/particle_try_47.png\n"
     ]
    }
   ],
   "source": [
    "def DeleteParticle(particle, fieldset, time):\n",
    "    particle.delete()\n",
    "import imageio\n",
    "pset = ParticleSet.from_list(fieldset=fieldset_ext,\n",
    "                             pclass=JITParticle,\n",
    "                             lon=[151.2,  151.3],\n",
    "                             lat=[-33.92, -33.9],\n",
    "                             time=time[5])\n",
    "images=[]\n",
    "for i in range(48):\n",
    "    pset.execute(AdvectionRK4, runtime=timedelta(hours=i), dt=-timedelta(minutes=5), recovery={ErrorCode.ErrorOutOfBounds: DeleteParticle})\n",
    "    pset.show(savefile='../outputs_imos_current_data/make_gif/particle_try_'+str(i),field='vector', vmin=0., vmax=1.5,land=False,show_time=(time[5]+i*86400/24))\n",
    "    images.append(imageio.imread('../outputs_imos_current_data/make_gif/particle_try_'+str(i)+'.png'))\n",
    "imageio.mimsave('../outputs_imos_current_data/particle_advection_2days.gif', images)"
   ]
  },
  {
   "cell_type": "markdown",
   "metadata": {},
   "source": [
    "Add Brownian Motion Kernel"
   ]
  },
  {
   "cell_type": "code",
   "execution_count": 31,
   "metadata": {
    "scrolled": true
   },
   "outputs": [],
   "source": [
    "from parcels import (FieldSet, AdvectionRK4, BrownianMotion2D, Field,\n",
    "                     ParticleSet, JITParticle, Variable, ErrorCode)\n",
    "size2D = (fieldset_ext.U.grid.ydim, fieldset_ext.U.grid.xdim)\n",
    "Kh_coeff=26.5 #meh \n",
    "fieldset_ext.add_field(Field('Kh_zonal', data=Kh_coeff*np.ones(size2D),\n",
    "                             lon=fieldset_ext.U.grid.lon, lat=fieldset_ext.U.grid.lat,\n",
    "                             mesh='spherical', allow_time_extrapolation=True))\n",
    "fieldset_ext.add_field(Field('Kh_meridional', data=Kh_coeff*np.ones(size2D),\n",
    "                             lon=fieldset_ext.U.grid.lon, lat=fieldset_ext.U.grid.lat,\n",
    "                             mesh='spherical', allow_time_extrapolation=True))\n"
   ]
  },
  {
   "cell_type": "code",
   "execution_count": 32,
   "metadata": {},
   "outputs": [],
   "source": [
    "from parcels import BrownianMotion2D"
   ]
  },
  {
   "cell_type": "code",
   "execution_count": 33,
   "metadata": {},
   "outputs": [
    {
     "name": "stderr",
     "output_type": "stream",
     "text": [
      "INFO: Compiled JITParticleBrownianMotion2DAdvectionRK4 ==> /tmp/parcels-13529592/a5afc91921a879dd893445c7033d8beb.so\n",
      "WARNING: dt or runtime are zero, or endtime is equal to Particle.time. The kernels will be executed once, without incrementing time\n"
     ]
    },
    {
     "name": "stdout",
     "output_type": "stream",
     "text": [
      "P[8](lon=155.600006, lat=-30.000000, depth=0.000000, time=1546261200.000000)\n",
      "P[9](lon=156.300003, lat=-30.900000, depth=0.000000, time=1546261200.000000)\n",
      "P[8](lon=155.441406, lat=-29.894695, depth=0.000000, time=1546347600.000000)\n",
      "P[9](lon=156.128067, lat=-30.816671, depth=0.000000, time=1546347600.000000)\n",
      "P[8](lon=155.358734, lat=-29.478491, depth=0.000000, time=1546520400.000000)\n",
      "P[9](lon=155.763428, lat=-30.502600, depth=0.000000, time=1546520400.000000)\n",
      "P[8](lon=155.867310, lat=-28.658531, depth=0.000000, time=1546779600.000000)\n",
      "P[9](lon=154.860764, lat=-30.001019, depth=0.000000, time=1546779600.000000)\n",
      "P[8](lon=157.034714, lat=-27.988018, depth=0.000000, time=1547125200.000000)\n",
      "P[9](lon=155.424637, lat=-28.657713, depth=0.000000, time=1547125200.000000)\n",
      "P[8](lon=158.294495, lat=-27.500162, depth=0.000000, time=1547557200.000000)\n",
      "P[9](lon=157.009872, lat=-27.337095, depth=0.000000, time=1547557200.000000)\n",
      "P[8](lon=159.066833, lat=-27.672092, depth=0.000000, time=1548075600.000000)\n",
      "P[9](lon=159.175751, lat=-26.691391, depth=0.000000, time=1548075600.000000)\n",
      "P[8](lon=157.769592, lat=-28.210461, depth=0.000000, time=1548680400.000000)\n",
      "P[8](lon=158.095322, lat=-27.062357, depth=0.000000, time=1549371600.000000)\n",
      "P[8](lon=158.001572, lat=-26.867741, depth=0.000000, time=1550149200.000000)\n",
      "P[8](lon=157.170395, lat=-27.225027, depth=0.000000, time=1551013200.000000)\n",
      "P[8](lon=158.206024, lat=-27.273012, depth=0.000000, time=1551963600.000000)\n",
      "P[8](lon=156.116486, lat=-26.976379, depth=0.000000, time=1553000400.000000)\n",
      "P[8](lon=157.706131, lat=-28.262005, depth=0.000000, time=1554123600.000000)\n",
      "P[8](lon=156.168320, lat=-28.828888, depth=0.000000, time=1555333200.000000)\n",
      "P[8](lon=156.387909, lat=-26.182369, depth=0.000000, time=1556629200.000000)\n",
      "P[8](lon=156.566452, lat=-28.867683, depth=0.000000, time=1558011600.000000)\n",
      "P[8](lon=155.608688, lat=-29.358601, depth=0.000000, time=1559480400.000000)\n",
      "P[8](lon=156.201645, lat=-26.139029, depth=0.000000, time=1561035600.000000)\n",
      "P[8](lon=156.171860, lat=-28.833872, depth=0.000000, time=1562677200.000000)\n"
     ]
    }
   ],
   "source": [
    "pset = ParticleSet.from_list(fieldset=fieldset_ext,\n",
    "                             pclass=JITParticle,\n",
    "                             lon=[155.6,  156.3],\n",
    "                             lat=[-30, -30.9],\n",
    "                             time=time[0])  \n",
    "images=[]\n",
    "kernels=pset.Kernel(BrownianMotion2D)+pset.Kernel(AdvectionRK4)\n",
    "for i in range(20):\n",
    "    pset.execute(kernels, runtime=timedelta(days=i), dt=timedelta(minutes=5), recovery={ErrorCode.ErrorOutOfBounds: DeleteParticle})\n",
    "    pset.show(show_time=timedelta(days=i))\n",
    "    print(pset)"
   ]
  },
  {
   "cell_type": "code",
   "execution_count": 22,
   "metadata": {
    "scrolled": true
   },
   "outputs": [
    {
     "name": "stderr",
     "output_type": "stream",
     "text": [
      "INFO: Compiled JITParticleAdvectionRK4NorthEastBrownianMotion2D ==> /tmp/parcels-13529592/ab33b84bcd90362f019c54e2cfa122ec.so\n",
      "/home/z3529592/anaconda3/envs/py3_parcels/lib/python3.7/site-packages/cartopy/mpl/geoaxes.py:1752: RuntimeWarning: invalid value encountered in less\n",
      "  u, v = self.projection.transform_vectors(t, x, y, u, v)\n",
      "/home/z3529592/anaconda3/envs/py3_parcels/lib/python3.7/site-packages/cartopy/mpl/geoaxes.py:1752: RuntimeWarning: invalid value encountered in greater\n",
      "  u, v = self.projection.transform_vectors(t, x, y, u, v)\n",
      "INFO: Plot saved to ../outputs_imos_current_data/make_gif/particle_kernel_try_0.png.png\n"
     ]
    }
   ],
   "source": [
    "def NorthEast(particle, fieldset, time):\n",
    "    particle.lon += 0.001*particle.dt\n",
    "    particle.lat += 0.001*particle.dt\n",
    "\n",
    "pset = ParticleSet.from_list(fieldset=fieldset_ext,\n",
    "                             pclass=JITParticle,\n",
    "                             lon=[151.6,  152.3],\n",
    "                             lat=[-33, -33.9],\n",
    "                             time=time[0])  \n",
    "images=[]\n",
    "kernels=pset.Kernel(AdvectionRK4)+pset.Kernel(NorthEast)+pset.Kernel(BrownianMotion2D)\n",
    "for i in range(1):\n",
    "    pset.execute(kernels, runtime=timedelta(hours=i), dt=timedelta(minutes=5), recovery={ErrorCode.ErrorOutOfBounds: DeleteParticle})\n",
    "    pset.show(show_time=(time[0]+i*86400/24),savefile='../outputs_imos_current_data/make_gif/particle_kernel_try_'+str(i)+'.png', field='vector', vmin=0., vmax=1.5,land=False)\n",
    "    images.append(imageio.imread('../outputs_imos_current_data/make_gif/particle_kernel_try_'+str(i)+'.png'))\n",
    "imageio.mimsave('../outputs_imos_current_data/particle_advection_try.gif', images)"
   ]
  },
  {
   "cell_type": "code",
   "execution_count": null,
   "metadata": {},
   "outputs": [],
   "source": []
  },
  {
   "cell_type": "code",
   "execution_count": null,
   "metadata": {
    "scrolled": true
   },
   "outputs": [],
   "source": []
  },
  {
   "cell_type": "code",
   "execution_count": null,
   "metadata": {
    "scrolled": true
   },
   "outputs": [],
   "source": []
  },
  {
   "cell_type": "code",
   "execution_count": null,
   "metadata": {},
   "outputs": [],
   "source": []
  },
  {
   "cell_type": "code",
   "execution_count": null,
   "metadata": {},
   "outputs": [],
   "source": []
  },
  {
   "cell_type": "code",
   "execution_count": null,
   "metadata": {},
   "outputs": [],
   "source": []
  }
 ],
 "metadata": {
  "kernelspec": {
   "display_name": "Python 3",
   "language": "python",
   "name": "python3"
  },
  "language_info": {
   "codemirror_mode": {
    "name": "ipython",
    "version": 3
   },
   "file_extension": ".py",
   "mimetype": "text/x-python",
   "name": "python",
   "nbconvert_exporter": "python",
   "pygments_lexer": "ipython3",
   "version": "3.7.3"
  }
 },
 "nbformat": 4,
 "nbformat_minor": 2
}
