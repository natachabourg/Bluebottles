{
 "cells": [
  {
   "cell_type": "code",
   "execution_count": 12,
   "metadata": {},
   "outputs": [
    {
     "ename": "NameError",
     "evalue": "name 'whos' is not defined",
     "output_type": "error",
     "traceback": [
      "\u001b[0;31m---------------------------------------------------------------------------\u001b[0m",
      "\u001b[0;31mNameError\u001b[0m                                 Traceback (most recent call last)",
      "\u001b[0;32m<ipython-input-12-f0c732ee3c46>\u001b[0m in \u001b[0;36m<module>\u001b[0;34m\u001b[0m\n\u001b[1;32m     33\u001b[0m \u001b[0;34m\u001b[0m\u001b[0m\n\u001b[1;32m     34\u001b[0m \u001b[0mfilenames\u001b[0m \u001b[0;34m=\u001b[0m \u001b[0;34m\"../raw_imos_current_data/IMOS_OceanCurrent_HV_2019_C-20190520T232835Z.nc\"\u001b[0m\u001b[0;34m\u001b[0m\u001b[0;34m\u001b[0m\u001b[0m\n\u001b[0;32m---> 35\u001b[0;31m \u001b[0mPlotImosFile\u001b[0m\u001b[0;34m(\u001b[0m\u001b[0mfilenames\u001b[0m\u001b[0;34m)\u001b[0m\u001b[0;34m\u001b[0m\u001b[0;34m\u001b[0m\u001b[0m\n\u001b[0m",
      "\u001b[0;32m<ipython-input-12-f0c732ee3c46>\u001b[0m in \u001b[0;36mPlotImosFile\u001b[0;34m(filenames)\u001b[0m\n\u001b[1;32m     30\u001b[0m     \u001b[0mimages\u001b[0m \u001b[0;34m=\u001b[0m \u001b[0;34m[\u001b[0m\u001b[0;34m]\u001b[0m\u001b[0;34m\u001b[0m\u001b[0;34m\u001b[0m\u001b[0m\n\u001b[1;32m     31\u001b[0m     \u001b[0mfieldset\u001b[0m \u001b[0;34m=\u001b[0m \u001b[0mFieldSet\u001b[0m\u001b[0;34m.\u001b[0m\u001b[0mfrom_netcdf\u001b[0m\u001b[0;34m(\u001b[0m\u001b[0mfilenames\u001b[0m\u001b[0;34m,\u001b[0m \u001b[0mvariables\u001b[0m\u001b[0;34m,\u001b[0m \u001b[0mdimensions\u001b[0m\u001b[0;34m)\u001b[0m\u001b[0;34m\u001b[0m\u001b[0;34m\u001b[0m\u001b[0m\n\u001b[0;32m---> 32\u001b[0;31m     \u001b[0mwhos\u001b[0m\u001b[0;34m\u001b[0m\u001b[0;34m\u001b[0m\u001b[0m\n\u001b[0m\u001b[1;32m     33\u001b[0m \u001b[0;34m\u001b[0m\u001b[0m\n\u001b[1;32m     34\u001b[0m \u001b[0mfilenames\u001b[0m \u001b[0;34m=\u001b[0m \u001b[0;34m\"../raw_imos_current_data/IMOS_OceanCurrent_HV_2019_C-20190520T232835Z.nc\"\u001b[0m\u001b[0;34m\u001b[0m\u001b[0;34m\u001b[0m\u001b[0m\n",
      "\u001b[0;31mNameError\u001b[0m: name 'whos' is not defined"
     ]
    }
   ],
   "source": [
    "\n",
    "from parcels import FieldSet, ParticleSet, Variable, JITParticle, AdvectionRK4, plotTrajectoriesFile, ErrorCode\n",
    "import numpy as np\n",
    "import math\n",
    "from datetime import timedelta, datetime\n",
    "from operator import attrgetter\n",
    "import copy_plottrajectoriesfile as cpt\n",
    "import matplotlib.animation as animation\n",
    "import imageio\n",
    "\n",
    "def PlotImosFile(filenames):\n",
    "    \n",
    "    \"\"\"\n",
    "    Plot trajectory of particles in a current field (input in .nc) \n",
    "    \"\"\"\n",
    "                \n",
    "    variables = {'U' : 'UCUR',\n",
    "                'V' : 'VCUR'}\n",
    "    dimensions = {'lat' : 'LATITUDE',\n",
    "                  'lon' : 'LONGITUDE',\n",
    "                  'time' : 'TIME'}\n",
    "\n",
    "    def WestVel(particle, fieldset, time):\n",
    "        if time > 86400:\n",
    "            uvel = -0.02\n",
    "            particle.lon += uvel * particle.dt\n",
    "      \n",
    "    def DeleteParticle(particle, fieldset, time):\n",
    "        particle.delete()\n",
    "    images = []\n",
    "    fieldset = FieldSet.from_netcdf(filenames, variables, dimensions)\n",
    "        \n",
    "        \n",
    "filenames = \"../raw_imos_current_data/IMOS_OceanCurrent_HV_2019_C-20190520T232835Z.nc\"\n",
    "PlotImosFile(filenames)"
   ]
  },
  {
   "cell_type": "code",
   "execution_count": 5,
   "metadata": {},
   "outputs": [
    {
     "ename": "NameError",
     "evalue": "name 'fieldset' is not defined",
     "output_type": "error",
     "traceback": [
      "\u001b[0;31m---------------------------------------------------------------------------\u001b[0m",
      "\u001b[0;31mNameError\u001b[0m                                 Traceback (most recent call last)",
      "\u001b[0;32m<ipython-input-5-21522befb8d1>\u001b[0m in \u001b[0;36m<module>\u001b[0;34m\u001b[0m\n\u001b[0;32m----> 1\u001b[0;31m \u001b[0mfieldset\u001b[0m\u001b[0;34m.\u001b[0m\u001b[0mshape\u001b[0m\u001b[0;34m(\u001b[0m\u001b[0;34m)\u001b[0m\u001b[0;34m\u001b[0m\u001b[0;34m\u001b[0m\u001b[0m\n\u001b[0m",
      "\u001b[0;31mNameError\u001b[0m: name 'fieldset' is not defined"
     ]
    }
   ],
   "source": [
    "fieldset.shape()"
   ]
  },
  {
   "cell_type": "code",
   "execution_count": 16,
   "metadata": {},
   "outputs": [
    {
     "name": "stdout",
     "output_type": "stream",
     "text": [
      "Variable               Type        Data/Info\n",
      "--------------------------------------------\n",
      "AdvectionRK4           function    <function AdvectionRK4 at 0x7f9b2b375c80>\n",
      "ErrorCode              EnumMeta    <enum 'ErrorCode'>\n",
      "FieldSet               type        <class 'parcels.fieldset.FieldSet'>\n",
      "JITParticle            type        <class 'parcels.particle.JITParticle'>\n",
      "ParticleSet            type        <class 'parcels.particleset.ParticleSet'>\n",
      "PlotImosFile           function    <function PlotImosFile at 0x7f9b29fb69d8>\n",
      "Variable               type        <class 'parcels.particle.Variable'>\n",
      "animation              module      <module 'matplotlib.anima<...>matplotlib/animation.py'>\n",
      "attrgetter             type        <class 'operator.attrgetter'>\n",
      "cpt                    module      <module 'copy_plottraject<...>plottrajectoriesfile.py'>\n",
      "datetime               type        <class 'datetime.datetime'>\n",
      "filenames              str         ../raw_imos_current_data/<...>019_C-20190520T232835Z.nc\n",
      "imageio                module      <module 'imageio' from '/<...>ges/imageio/__init__.py'>\n",
      "math                   module      <module 'math' from '/hom<...>37m-x86_64-linux-gnu.so'>\n",
      "np                     module      <module 'numpy' from '/ho<...>kages/numpy/__init__.py'>\n",
      "plotTrajectoriesFile   function    <function plotTrajectoriesFile at 0x7f9b2a556840>\n",
      "timedelta              type        <class 'datetime.timedelta'>\n"
     ]
    }
   ],
   "source": [
    "whos"
   ]
  },
  {
   "cell_type": "code",
   "execution_count": 20,
   "metadata": {},
   "outputs": [
    {
     "name": "stdout",
     "output_type": "stream",
     "text": [
      "<class 'parcels.fieldset.FieldSet'>\n"
     ]
    }
   ],
   "source": [
    "print(FieldSet)"
   ]
  },
  {
   "cell_type": "code",
   "execution_count": 28,
   "metadata": {},
   "outputs": [
    {
     "data": {
      "text/plain": [
       "<function mappingproxy.items>"
      ]
     },
     "execution_count": 28,
     "metadata": {},
     "output_type": "execute_result"
    }
   ],
   "source": [
    "FieldSet.__dict__.items"
   ]
  },
  {
   "cell_type": "code",
   "execution_count": 24,
   "metadata": {},
   "outputs": [
    {
     "data": {
      "text/plain": [
       "mappingproxy({'__module__': 'parcels.fieldset',\n",
       "              '__doc__': 'FieldSet class that holds hydrodynamic data needed to execute particles\\n\\n    :param U: :class:`parcels.field.Field` object for zonal velocity component\\n    :param V: :class:`parcels.field.Field` object for meridional velocity component\\n    :param fields: Dictionary of additional :class:`parcels.field.Field` objects\\n    ',\n",
       "              '__init__': <function parcels.fieldset.FieldSet.__init__(self, U, V, fields=None)>,\n",
       "              'checkvaliddimensionsdict': <staticmethod at 0x7f9b5037fc18>,\n",
       "              'from_data': <classmethod at 0x7f9b5037fc50>,\n",
       "              'add_field': <function parcels.fieldset.FieldSet.add_field(self, field, name=None)>,\n",
       "              'add_vector_field': <function parcels.fieldset.FieldSet.add_vector_field(self, vfield)>,\n",
       "              'check_complete': <function parcels.fieldset.FieldSet.check_complete(self)>,\n",
       "              'parse_wildcards': <classmethod at 0x7f9b5037fc88>,\n",
       "              'from_netcdf': <classmethod at 0x7f9b50391f60>,\n",
       "              'from_nemo': <classmethod at 0x7f9b2b3cc3c8>,\n",
       "              'from_c_grid_dataset': <classmethod at 0x7f9b2b3cc400>,\n",
       "              'from_parcels': <classmethod at 0x7f9b2b3cc438>,\n",
       "              'from_xarray_dataset': <classmethod at 0x7f9b2b3cc470>,\n",
       "              'fields': <property at 0x7f9b503f5c28>,\n",
       "              'add_constant': <function parcels.fieldset.FieldSet.add_constant(self, name, value)>,\n",
       "              'add_periodic_halo': <function parcels.fieldset.FieldSet.add_periodic_halo(self, zonal=False, meridional=False, halosize=5)>,\n",
       "              'write': <function parcels.fieldset.FieldSet.write(self, filename)>,\n",
       "              'advancetime': <function parcels.fieldset.FieldSet.advancetime(self, fieldset_new)>,\n",
       "              'computeTimeChunk': <function parcels.fieldset.FieldSet.computeTimeChunk(self, time, dt)>,\n",
       "              '__dict__': <attribute '__dict__' of 'FieldSet' objects>,\n",
       "              '__weakref__': <attribute '__weakref__' of 'FieldSet' objects>})"
      ]
     },
     "execution_count": 24,
     "metadata": {},
     "output_type": "execute_result"
    }
   ],
   "source": []
  }
 ],
 "metadata": {
  "kernelspec": {
   "display_name": "Python 3",
   "language": "python",
   "name": "python3"
  },
  "language_info": {
   "codemirror_mode": {
    "name": "ipython",
    "version": 3
   },
   "file_extension": ".py",
   "mimetype": "text/x-python",
   "name": "python",
   "nbconvert_exporter": "python",
   "pygments_lexer": "ipython3",
   "version": "3.7.3"
  }
 },
 "nbformat": 4,
 "nbformat_minor": 2
}
