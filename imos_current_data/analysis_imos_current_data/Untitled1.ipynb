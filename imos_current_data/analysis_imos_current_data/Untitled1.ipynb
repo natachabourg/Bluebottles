{
 "cells": [
  {
   "cell_type": "code",
   "execution_count": 35,
   "metadata": {},
   "outputs": [
    {
     "name": "stdout",
     "output_type": "stream",
     "text": [
      "<class 'netCDF4._netCDF4.Variable'>\n",
      "float64 TIME(TIME)\n",
      "    long_name: analysis time\n",
      "    standard_name: time\n",
      "    units: days since 1985-01-01 00:00:00+00:00\n",
      "    coordinate_type: TIME\n",
      "    calendar: gregorian\n",
      "unlimited dimensions: TIME\n",
      "current shape = (365,)\n",
      "filling on, default _FillValue of 9.969209968386869e+36 used\n",
      "\n"
     ]
    }
   ],
   "source": [
    "from parcels import FieldSet, ParticleSet, Variable, JITParticle, AdvectionRK4, plotTrajectoriesFile, ErrorCode\n",
    "import numpy as np\n",
    "import scipy as sc\n",
    "import math\n",
    "from datetime import timedelta, datetime\n",
    "from operator import attrgetter\n",
    "import copy_plottrajectoriesfile as cpt\n",
    "import matplotlib.animation as animation\n",
    "import imageio #to make .gif out of multiple .png\n",
    "import matplotlib.pyplot as plt\n",
    "import scipy.io as sio #to load matlab file\n",
    "\n",
    "\"\"\"\n",
    "Load IMOS raw data\n",
    "\"\"\"\n",
    "filenames = \"../raw_imos_current_data/IMOS_OceanCurrent_HV_2017.nc\"\n",
    "variables = {'U' : 'UCUR',\n",
    "                'V' : 'VCUR'}\n",
    "dimensions = {'lat' : 'LATITUDE',\n",
    "                  'lon' : 'LONGITUDE',\n",
    "                  'time' : 'TIME'}\n",
    "fieldset_imos = FieldSet.from_netcdf(filenames, variables, dimensions, deferred_load=False, allow_time_extrapolation=True)\n",
    "\n",
    "\"\"\"\n",
    "Take TIME variable from the IMOS raw data\n",
    "\"\"\"\n",
    "from netCDF4 import Dataset\n",
    "dataset=Dataset(filenames)\n",
    "print(dataset.variables['TIME'])\n",
    "time_imos=np.array(dataset.variables['TIME'])"
   ]
  },
  {
   "cell_type": "code",
   "execution_count": 38,
   "metadata": {},
   "outputs": [
    {
     "ename": "TypeError",
     "evalue": "'FieldSet' object is not callable",
     "output_type": "error",
     "traceback": [
      "\u001b[0;31m---------------------------------------------------------------------------\u001b[0m",
      "\u001b[0;31mTypeError\u001b[0m                                 Traceback (most recent call last)",
      "\u001b[0;32m<ipython-input-38-3054c2f49fe0>\u001b[0m in \u001b[0;36m<module>\u001b[0;34m\u001b[0m\n\u001b[0;32m----> 1\u001b[0;31m \u001b[0mfieldset_imos\u001b[0m\u001b[0;34m(\u001b[0m\u001b[0mdomain\u001b[0m\u001b[0;34m=\u001b[0m\u001b[0;34m{\u001b[0m\u001b[0;34m'N'\u001b[0m\u001b[0;34m:\u001b[0m\u001b[0;34m-\u001b[0m\u001b[0;36m30\u001b[0m\u001b[0;34m,\u001b[0m \u001b[0;34m'S'\u001b[0m\u001b[0;34m:\u001b[0m\u001b[0;34m-\u001b[0m\u001b[0;36m35\u001b[0m\u001b[0;34m,\u001b[0m \u001b[0;34m'E'\u001b[0m\u001b[0;34m:\u001b[0m\u001b[0;36m156\u001b[0m\u001b[0;34m,\u001b[0m \u001b[0;34m'W'\u001b[0m\u001b[0;34m:\u001b[0m\u001b[0;36m150\u001b[0m\u001b[0;34m}\u001b[0m\u001b[0;34m)\u001b[0m\u001b[0;34m\u001b[0m\u001b[0;34m\u001b[0m\u001b[0m\n\u001b[0m",
      "\u001b[0;31mTypeError\u001b[0m: 'FieldSet' object is not callable"
     ]
    }
   ],
   "source": [
    "fieldset_imos(domain={'N':-30, 'S':-35, 'E':156, 'W':150})"
   ]
  },
  {
   "cell_type": "code",
   "execution_count": 61,
   "metadata": {},
   "outputs": [],
   "source": [
    "\"\"\"\n",
    "Change U and V shape \n",
    "\"\"\"\n",
    "\n",
    "lati=fieldset_imos.U.lat\n",
    "longi=fieldset_imos.U.lon\n",
    "ucur=fieldset_imos.U.data\n",
    "vcur=fieldset_imos.V.data\n",
    "u_imos=[]\n",
    "v_imos=[]\n",
    "grid_imos=[[],[]]\n",
    "\n",
    "for i in range(len(lati)): #Create grid of IMOS latitude longitude\n",
    "    for j in range(len(longi)):\n",
    "        grid_imos[0].append(lati[i])\n",
    "        grid_imos[1].append(longi[j]) \n",
    "grid_imos=np.asarray(grid_imos).T\n",
    "\n",
    "for t in range(len(ucur)): #for every time step\n",
    "    values_u=[]\n",
    "    values_v=[]\n",
    "    for i in range(len(lati)): #take U and V for every couple (lati,longi)\n",
    "        for j in range(len(longi)):\n",
    "            values_u.append(ucur[t,i,j])\n",
    "            values_v.append(vcur[t,i,j])\n",
    "    u_imos.append(np.asarray(values_u))\n",
    "    v_imos.append(np.asarray(values_v))\n"
   ]
  },
  {
   "cell_type": "code",
   "execution_count": 91,
   "metadata": {},
   "outputs": [
    {
     "data": {
      "text/plain": [
       "641"
      ]
     },
     "execution_count": 91,
     "metadata": {},
     "output_type": "execute_result"
    }
   ],
   "source": [
    "len(fieldset_imos.U.data[:][1][1])"
   ]
  },
  {
   "cell_type": "code",
   "execution_count": 37,
   "metadata": {},
   "outputs": [
    {
     "data": {
      "image/png": "[encoded data removed]",
      "text/plain": [
       "<Figure size 432x288 with 2 Axes>"
      ]
     },
     "metadata": {
      "needs_background": "light"
     },
     "output_type": "display_data"
    }
   ],
   "source": [
    "fieldset_imos.U.show(domain={'N':-30, 'S':-35, 'E':156, 'W':150},show_time=time_imos[180])"
   ]
  },
  {
   "cell_type": "code",
   "execution_count": 47,
   "metadata": {},
   "outputs": [
    {
     "name": "stderr",
     "output_type": "stream",
     "text": [
      "INFO: Compiled JITParticleAdvectionRK4 ==> /tmp/parcels-13529592/2cba233937cb22d61dbae800c3dfee70.so\n"
     ]
    },
    {
     "data": {
      "text/html": [
       "<video width=\"432\" height=\"288\" controls autoplay loop>\n",
       "  <source type=\"video/mp4\" src=\"data:video/mp4;base64,AAAAHGZ0eXBNNFYgAAACAGlzb21pc28yYXZjMQAAAAhmcmVlAAAy7W1kYXQAAAKgBgX//5zcRem9\n",
       "5tlIt5Ys2CDZI+7veDI2NCAtIGNvcmUgMTUyIC0gSC4yNjQvTVBFRy00IEFWQyBjb2RlYyAtIENv\n",
       "cHlsZWZ0IDIwMDMtMjAxNyAtIGh0dHA6Ly93d3cudmlkZW9sYW4ub3JnL3gyNjQuaHRtbCAtIG9w\n",
       "dGlvbnM6IGNhYmFjPTEgcmVmPTMgZGVibG9jaz0xOjA6MCBhbmFseXNlPTB4MzoweDExMyBtZT1o\n",
       "ZXggc3VibWU9NyBwc3k9MSBwc3lfcmQ9MS4wMDowLjAwIG1peGVkX3JlZj0xIG1lX3JhbmdlPTE2\n",
       "IGNocm9tYV9tZT0xIHRyZWxsaXM9MSA4eDhkY3Q9MSBjcW09MCBkZWFkem9uZT0yMSwxMSBmYXN0\n",
       "X3Bza2lwPTEgY2hyb21hX3FwX29mZnNldD0tMiB0aHJlYWRzPTYgbG9va2FoZWFkX3RocmVhZHM9\n",
       "MSBzbGljZWRfdGhyZWFkcz0wIG5yPTAgZGVjaW1hdGU9MSBpbnRlcmxhY2VkPTAgYmx1cmF5X2Nv\n",
       "bXBhdD0wIGNvbnN0cmFpbmVkX2ludHJhPTAgYmZyYW1lcz0zIGJfcHlyYW1pZD0yIGJfYWRhcHQ9\n",
       "MSBiX2JpYXM9MCBkaXJlY3Q9MSB3ZWlnaHRiPTEgb3Blbl9nb3A9MCB3ZWlnaHRwPTIga2V5aW50\n",
       "PTI1MCBrZXlpbnRfbWluPTEwIHNjZW5lY3V0PTQwIGludHJhX3JlZnJlc2g9MCByY19sb29rYWhl\n",
       "YWQ9NDAgcmM9Y3JmIG1idHJlZT0xIGNyZj0yMy4wIHFjb21wPTAuNjAgcXBtaW49MCBxcG1heD02\n",
       "OSBxcHN0ZXA9NCBpcF9yYXRpbz0xLjQwIGFxPTE6MS4wMACAAAAfwmWIhAAQ//73gb8yy18iuslx\n",
       "+ed9LKzPPOQ8cl2JrrjQAAADAAzdiJ7g8K10PRXgACAgAExHCpOR/hK11xANBHu5rxunLOskvQMa\n",
       "Q4BDMiKtPSljsxkiKoOljHfgqPY8Y6y9rDMCTMg7QScoM2qvkY5kNyPJssMGIjVcOMaJVpaaSsm0\n",
       "uHsMzmCGVD8dQgRkG+MST1GKH5caH0xOwMgEmvDvlNqoN06P1UH2PpO9y44HRYSgAvkOyDUGcxCo\n",
       "oKck+4gE85A4ZFzukbJ2/1U7QAHbzbvfn67DX0CcYMlBX+a0TZWlKAM+Mhj0Q7LAX+4pP6iqCjp1\n",
       "/FxXEaCRIyybM+WY7kIY/EwM/etyC1/I7xqAmls0KkoUBYUHe84oMlPc5SPXTNF4IeOTiXF/h7J1\n",
       "z8foUg99cNOKpBROS240wmeK1i3s7YYmy2zJ9tiGf6GiUsfve7qUZJqOYAGj6Vm5Y5EoSH6WJqg3\n",
       "OuxbaugINOKrhOzn+jhhBZd7blQOozQ70f43+9gnZvtvS3N/To86kKXwSwPKHPOG2aM4uMPJ65Bo\n",
       "q+MXYocToWn2YmkUcIb08qahda/3dDpERwI7563wHjOigmySo+toE9QbD2XVEFPVZHPUjxDqrwdi\n",
       "GEJml5SXvU65ZD1IVheMjey9oit976ynWp1B5yEsma85fDGY3Smn1HLv6yfgzXz9zFKUfnT4zx52\n",
       "gm0nDQiHEWLgKVvcA9eh3qThX6nROT9+t42iOVYktkX0R2fEkRR6ggAG/53R+fJZqRtvaas3m7hW\n",
       "vkO1J9RjjVnVbOHha8UjwI2jQFjfZdvMScXf4KDsjOlIi7QJj30nG8uRnPaO4EE/k3qC+yquvi52\n",
       "z1r9+CqOEQQ9vQ7VBCmXTUDv90lQX7RIJmHpllsAHDqWSgK8doxK/XS2PwYHKJN00QX+Gw3ZCHME\n",
       "s6Nro+ZafRohoSxQs59/zC5ucT6nOuCMixtv7tMLdHRtj0EQ7XYiM1wMQwVXyvz5yZ1p9MUj9RHO\n",
       "vCiEJa/c9X2XnRNmJVnku6Yv/hxoCU5JSQ8A97eQAeHD6uhmzyhYNDTgd6rbGAAf4M1b7t9sEQpi\n",
       "isACCuiJZTIIq3BfGL93inSyhcygfQcDhS/u/D7PQ2l9+WGk8q4lCiBd6FRtxY2EyyM4NQIEAV8m\n",
       "lN9iU5DVKb7ayhWWM1A8K69aFAzKhxr5SXUJ8W6DxemKP9WwF8FNn8Zn54Z2eNTyJGW4ibzz2UIs\n",
       "+eXnPN4vPdQ0icYQUVd64HORn/Jt4s+s2oKwhgv/0K48U/H762w1fUYo6/m+qnthSK1QPwctvYP2\n",
       "EeT99Ym39WMFrZlr0sP/tgfCZs2haA0kkM8ExKXnAj+0SkrtpPp09zbeMSKvhgJvFdmE1RklNEcp\n",
       "w7ianK94c+ExDoyX+jHpX4so+Iuxbumlsimn8fUbDioFs9k8AAnmrPtUCcPQCeSCF6CXuFQU7dXq\n",
       "tRW1ZdgU8Xw3VDFBGLc3qyFLQGSX+H/pd/aIYtq4EL8pz/YPjk8/Fa/C9TeHQmc6HAWLYDJQqnYd\n",
       "FWPYAtfDjYiVr5dKaotyfT+/wZeMG5UPvZRegRO8GA5+VyyeVQ8D54Euxj9CESTOCkrqSCVbQxMA\n",
       "pdx6ySdNOZ3ZTeu1GJne+WZSP1kkO2qji4udT0LVewIwl9+oFql+Pf/usMpMgK5cGUGy3HtWhc+z\n",
       "JlL7a3N3gEnEDPGi8JSCXCOs1qD2vAwPihKqalG22dTRLgNUTruo0SRs2B6AZ9q6yp5XIikcNMQo\n",
       "Oo0iPN+ivS9f74Cxaf9/orLYv4T1IoWID6AaJ8aussI+UQoLoHSEPYMrOYrHRBiW3dlKjd044Hba\n",
       "OnSLdxmGIKNJgBpGqEi00pYxHNu5Ai8PrJFM6GIlKmwnbRpby6Fhr22votbJAVeSylGqom2Khr/E\n",
       "P9z7F2fyoTtTplMvX74Gbc9YenXiGJN9FkMrRBYMq/2s7zoAXF+N1QhDp6ukxZTrrFdLEXYosaNe\n",
       "RuyjrcIO6axQMFA97ZRcd1BUYTUAtFiOyq8CagFAHmTiw+6Hc+qMGpQDRiOQsJeuLlxELzB1ZN8d\n",
       "kzw6/Ep1aPzNDbqDYyAkEmCiCs84CB58UMiIxtumPi0rY8MFjE/IUkFMIVvmh6W81j6LcU4ZMO+O\n",
       "DXq5M98MntapnOt6B8Ogz53b9naKsCPPanCy8dRHcmS2z915aZvvcMrYONw6NPamwUKgl5G9XQUR\n",
       "boQUteSGeQDtaI/3/+HwHqPVw5bVrcdNfbPsNsIMA1MxXzmulUe/HbsaH6EWzjYsJntj062GDtfu\n",
       "eAecdfq9wgAgPm4s2/DJxWzlGNcnH1XM2Py8MoMlmZsgoTiOX85OW208oLKX2M/AVi+FKqBY1aHF\n",
       "ojB39pIFlmSJ4pVJCOt9O0V+5H/Qhb125//wyqXk9STK9iuhYa9NED8YvvRu5w1WmQIMXmZvwumo\n",
       "bN2eWUkE7JqxT0zs3C7813+UTHvcj0/3d9OE8oS8s2+IG9rRpjChbr8Vy+A2737GOT9NI4P/mNyy\n",
       "WcEq8q8BNIL3/8qVlE8vn3hBRNKu7mYT+JzeYyKj0LQFuJysr5AhZ1h/ObM9alc0nzHg7QcadWVd\n",
       "4+7+hPWvTuz+UnCgJTN3WdG3ImlRjlVBFb6rkWd//cFz0zFPySnYRWj8F4u1PeFRAIy13l6eu/zX\n",
       "ofzL73pXOnQwOF58b8yBdvyE1yBNgtMUmD1X+zLrDRlzd0hTPyQoVj1/xR5gXPyc0EcXlmhwHJ6s\n",
       "AdApWKIFlZLtcvDIldocwyCdEljEYk63j7naG3CozjZ9ppCwuBmlKydmUCfoa4k1+hXKl/F8sNcC\n",
       "oDXN5mnnllWzY7KHySsdUEbjTTICS3a7LkNmRbQgVqGQnzIZnPCZJC8D63ux8FQTR6PlLwOykV4c\n",
       "PfiEfPj6Xyej/rjDkv52vy/qZ5qYqxdKZlpZeZ9+6w0XgHIpxARMCLs+OaNV5w6M5Dya5jiv/B3y\n",
       "EfuSEcDjlvv3bHvqXkovhP2+7UfEU2etmLhvaX5qyaozvZb567N6CAEDh3T5Pqvar6jOgxF8zZ3V\n",
       "xWkgKCZFxlnBSwXPnKCjF1iHdnE7EKBv/NDiiYuyaTyUktvyvpt2imffyvfnqDCvOPYR4SH8BVsY\n",
       "QjI7VQyrW3EfhXf6T5mchFVZDJQoeq7MVdRqriTAXe9lhg5rGtG9Oa47TAdEa/isTbahx18tQysA\n",
       "AOSmM3CFDfScTmJSoWXiQ4vEZudrKZGsB4ht33CYQAvFJ0kySfvdKUXv3IujECHrSlJsflRxWQUf\n",
       "uwYt2EkkZ3kPgL9q3W+zZaLTJ9qYqgzpumN/9D0Z5A79BC89YuGzrRzdzv8nyeKHPTuPPDWvfP/C\n",
       "0EBbwXjjbN/CMcOtiMjDDd4eKJblfJKlM/JIUwhwP+NfWrGloK5ozxeTCIb/GiyaGZqsjOabj/6s\n",
       "F3KkkypyBb43grdesnS1lNX4kOBqLe5ECT/t+xjBP8v9cetwEqvsydrNCb5fKM5jrGLtHffQOmSf\n",
       "/+mI6EMqpFgIQVCdTM6PL2JP0bMa+AN6Lk9Az3ORfQ6sA0ysNsu52BZXOuA3fFIcHDm8oTnDCjIl\n",
       "VYX/Qv4v3nFaLs+8vxMUQRtVUQn1rsH0shE7LpWnHQ2rZJfF3nSn75ftYNPvZ616JHkUIvARUs3A\n",
       "FrmXCfWS2etulmFKvMRIFsJJxtx5V0hpGel6Ywzu1fFCSW67D+qMDReZle9IxdX/LmwIQbKEzhtG\n",
       "EmogoOSx20Zq+U5Gd2ShW7W2Eoh8969Bxx6+yE5ZS9uJiWKwtdSuAE4nFUUFYKEE3JngHf2Vh50H\n",
       "clIbw7fnz0QffMAvuzOnWoOaO90qHI2A4ezKI75vXG4OJBGFPdIHzaZGI1L8BwAARFWpC0pYx0jK\n",
       "rnRub+nzvC0A5Pt+jZx+qxKKOXjuh0qENFixTjoHzmJXxCebv97KV4zXpsTz9QK3pH3yMTpQ+GCE\n",
       "JXu4RfYnqiONui5k1TTJkeIyCZaiiabEB/UxzsWMhyF/DSWbfYbFMm0+8x/2PoTLf32UsstEufqB\n",
       "e6rst6yJ1iPQaLXVkYS4ppAxRCVZygmEteitc7xyOhYpDrcKpgcbSB3zlA0xWQP6k6EUtpr4CAr9\n",
       "MQz+aWJppt9X8J+5JjYxMZ3wtkVjpCyXDkZqWMBgKvJnKw8ugCUXdQKqGVVb33mg+PaZyI9P/5Ca\n",
       "nSnAMf3pJV2bi7669jkWmAAnVs0Xu/lGO6xvKR7/ab8ijEt3qHqh0ZNvvnimftqknYrDklWk/4YX\n",
       "ffyWmUOM2EfhcSgehEfFAe7d2W6wnA2sm6OW7//Kyi2udvXPww+cP3/ZU+jAdndy5VWn3f/bBa3X\n",
       "JJlbH9fPu4ZPBhKLRDKzJOMjJv76LuWAPZVPPrSGa6nHYJP//QYPc/rNzbdQSE4XIT8NoF+K5imW\n",
       "FfKxAAMXpyuj9HqGgWkZ05aKhDIiYssPu93+7mReip5zYD1pUSZvpu14+sNLhYBT+XxH+/S9jRrM\n",
       "vXqFSoLzY3qQKDNxhIJXVARlPQnmQo0gSbANQuU/q+Oah7UpGXdncPCiNIRdkcmaFiCL96IwrHK7\n",
       "DBeYw34wjKuInmaA+NhkcXFnVHSwR9OuKxufbkNZhWrhslEcEULV0fReJXdZLlmeUCpju7jaLbhK\n",
       "e/4gSys7nkwMO3lMIsiuvBacxvuG/m7pe1EHJGB5w3dJDyANHcaEbwP4i0ShjaLeyNVihPx+8f6q\n",
       "iE1mTNtJAxMASjp1J72KVzSQfvwLWtvTscCHHLaLai1MrqkIzIZPt3Khbv+925NoLWtLng30/d0e\n",
       "Uia9FPVyFd+K2VXe1OBsMtMbchXbDOYu8/XV4+ZgIX7foVoz/x2+C5cewO52e+NeIcT+JATBCuZ5\n",
       "ODM1Q/UlpRN8nEoqORL8j5O6jQVPImPcP7jbcMekWPxOym7Yc4qI1bB1AIDsLSec9wMExXtvVOBh\n",
       "W5FDVDl2S90j+ttpSCMw7cfmET/ykkOVdhWodzUYAOJhdozPniIbcVfokB8+/Nl2Q2RP0JvOr4ob\n",
       "RdttDYC6Mkifp/uZG5rrmCp78+hkJYuWwyfljv1r4eNOcBciTmaDgL82IzJ4pp5pmQUg7UJznK0q\n",
       "Z4tbDE8beH1PATJREilGgKDYOYg34idcxwfR1ajXXl1EM6fvfARQQXYi83InpjYMtiJfvJLFp/sh\n",
       "xR7XzAOjxfobYwbBLI3t1Xr/fShvNeh+GBjjPatnOHpk05+8MOJ3yNOR6QZjqUfrVhOorG4BnnDC\n",
       "mUghzr4rotR4j6nAICRxXeDr2cV8pHW4y5D7V2wYHGf4whDaU44OU+0cct9zS1ptiU0JUFiWThQ8\n",
       "5LXpP/jtS3UgWIgiZuMMcAQnzaHf0Tfcw32gLBb380rfehVOujwPYON2zjphQUoUTA4axQmBnthP\n",
       "RJpyn/wNo/lztW8ze707A6+0FU3PRA8R8UdFMq8xsn77hjatlWtb3CPs6059cTBEXo/rXM+2RlJl\n",
       "FZ47NrtXLq8IF0jsDhwvq1QN4U1vodsOgXiJRdsot08XwLKmqHFyJJcQOuBUxKcxjx2V/0mNP/Ua\n",
       "g1GxlEpl8wmge6u+J0qex0VRsJCqLQLTbhxfpUX2OnS59QEBI8mImGo3sDNGKHIrvdeT5+Fmjmlc\n",
       "XDbBiIfJBaaK3gSx/wyBCZay7Ghoa2vw8BXP7E35qq6FoxoQ+zQl5cPT9M3uIAscapLZyMBWdfoG\n",
       "H3cKGC9nfl9Vh0cN0xdI4d1ovb0AcGgVcCxH6W0QLunI8Y0jB51EEnENr9JGTHttWgNYKf+m9CYm\n",
       "jcPLqahsgmI5rRu/qW7sQCQ24jj8NJKbvY543542f8lw02FJl9Uu6uzLbJTsUnIIbcevFJJPBVwW\n",
       "L25pRv35U6y8rcW0O9nE43ZJCgqKk2SFa1LzW7jxCNwbWxQ+PerqDjiJu6rEEXdIObNWHDIrcAcQ\n",
       "O1G6cjBTDufW5Zcz3q7RKZNxvmgkIuuD7G5nQSlyapehWG5doBP63dqI+9ELBEI1Akc19kTA9yIr\n",
       "af0zm9Dx+wvJIf2qJCR6SMAE7AxdNhpcQfKZCDcSEFg46rJEN7bv7MphYGsiw3DaDk/etwyMcboT\n",
       "UMvYwRgsCfg0E+N9GkZ/JDaEkH20UjowEZ1X15rECdTkNKizPiVB3a2hY3IvuF61djt3GQwSwyb1\n",
       "o2IQaAvpdEfsnavwYkLhfVnSdS6kLpoW37ITZ0JLQzxmXOinEM3tPfIwYndX+emevYj84qZrcMUr\n",
       "ep3uFnPQDZKly48ZSc+N0FkBrYZk4UU2GnNAbLJFw7AxMfyZ/jm+VZV9ZZ+UWIFFKRnV/atbFso3\n",
       "VxGaWmsVOTVOfQJVUrWhW5Ts8qwoXUlesgJNDzhTpnWAT2qn3wx7BU7XO3+EWwEoQAZ4Lsg2wwtU\n",
       "wuxQ6Bi/8vpdtOEXcQBKwqm3W4kWTXWmlyBXmelwmOSLbgsUrriCO8wAGi1H3PeKavCnTC5JeWmE\n",
       "ncaTPu8Z5dUSMLs22Kv/IoRk7x047DV5gj9E7x8vkLmFERJTr7jM71+xi3VrEzsdZeReg8bwNisU\n",
       "Y/70/gx3VB1fKm+2h34Qw/0yhi7eUHPfigLy2fn+nHQ9rlfrRGE1oH3SEo9Y7LIbYjsBdlP70XR2\n",
       "AizK48nICAYHwtEYTWgfdQjizTEKNSNagXZUBcGCx/RHEwl0A7lDY5ZAAmCUp+uL/zwBuy1toGGy\n",
       "Uprc/xn1EihVQcsWUAFnfNWnqefphW/Y0nMbSIefrNuoUA/SqN8FtBRWD16V0MQzX+Wf/3MM0uu6\n",
       "otm60PSxaFKMC3jB0bLeH52qLOSQiCr1lTIokC7JAtFN3x7A0FHIXmeNVIcCR3HzUsp4oNZtHR1K\n",
       "77dJlSHSVf5hgKD8BtRibkBwwCbf9k9zXM2qXNynL0ZdesLHY0Jz9VocfZW1u1o4gLBiFz1s0jCV\n",
       "n/HVpRC37y0KQl2ZNEHp+rADIb+zCt8bgBJ3P8cIsMRhiaOOYzV5bzcDYvF6VRwvjLZl239f9+Ti\n",
       "9/8OAGvSvonA4jBP+zj0tczVpakUo7fXz3XKE1kqMqtPtGUFa3hU0v0BUQvedRimJ/ogds1COlqG\n",
       "hGBv/fnMGSFa2kNJErni+w2PmWveX/A48qIZAKInqfjFDiQPb3mEUTw8KGDzRMWKWT9hfNjUNyti\n",
       "SDXKRkN7jJWH1/9JgVXSZm9WlZ+LG3PaarS9xTq9fsMyXSwgT9uJ/F11aXr7LUNAfA2q1pMtXwsz\n",
       "LF48W9zEGJQ1/Z/oYxZ02uN89l8h5cDDe8ZfSl+uJ09sJdtoszMRG03cCJ/h5Nyst+pxJ0ZYwXXd\n",
       "/tfNK304YcjnJLzIbq6yegWNJnPmvpnOukFJ5Np4afzYwa4C53iy983Sm6HwnU/HHKdb9YvyNUgi\n",
       "MLxumWLDBldot10SDMXj3d+Z7NgT4Yw16akIZC0ILN2rKo3b3lh/0x62ggh9SnrVFiCkFgBfEmFi\n",
       "ozD38BUVLuiulf/SnLWPzSSMKtYbmB0iYiB+AVEJcRoB/IGFGF4EQHf+EXJe9pJ8xAX8u3CXQuFu\n",
       "7ElFnxdOdSWAbN5Uq3mnmPhT1cuDpGsOmjQlt9dkbR2dSFhxcfqPK5L++31Mo99Ew4XJDzudNedc\n",
       "kyDWuoi1up1+1JRjh/DEmoSZwif8jjvpxSrY4QR/Vw5RUk16T/dSp4CMQd5ykBwLpg44BJoiUSTO\n",
       "UcI06A8MyukY5+1dZWrcy4errJ/C7I+t1Ii7lfmHBaJ2tuiwq6DNzakjlPtJD0FtwGbe8YXF80g2\n",
       "nVyP9SSBn7bhnDb5Zjj1g5ftYs827Qh5pr1/vzfnsLCpumCjCVVNsUYoVQ4+8w99IlYGc5uxnvqM\n",
       "M63HaMR8+u7EEnX0Woo0EFsakERPOmn+jzfgIaDtNiZ1SB95f///+UMpU+7JD7joLSQ0mpcE32bY\n",
       "v8x0ZgH65mfUyuQHVouk7NroKbN8DSw2OQ1M90tP+ItObTYVbaiVhvFSMTNWeE4Mv6XWiPdhl7av\n",
       "2zV45ZIwmTbdTqa4a/k7NobgVKbZgj3BHD/gP9QXx6CgRE2lPzsZEahkMaCuf0APS6wc8HhGwpDj\n",
       "9mL5y7RaIefRenCLHhn5wwxI2Kcu70PbbsjUca+fOf7Jl7mF26egOxEpymgbxt73nSOqrW1grQ2N\n",
       "l8EoqNGMc8d+cFtdZUjcqOCt2w3ix+2JShuFvXaSVqTkpoxCgtWTFYRZhbbLlbPRJqCIEewmkEuJ\n",
       "9PJx8dLn6I2Up2pZFhUQrW2S0+6pim2kZ9EFxSG1l45p51mV3OhQcpfb/DiAV1a1U9zM4S4/Ma9b\n",
       "NPEfCoKIqGHW+McJ9SzdNuWJffDVJDdP4o0IKTJJe1QeotLmE3/vYOMuyAbKQmKcQnkp37ZcPGka\n",
       "H9tOocsb8ov4+HkB4bS+GqNDyVtMjwhIqBHdQXEKtl9oth+YM89MlDRh9X12RURdMtTtCJWA89/c\n",
       "Kqkuof4shtycd9RbYIUjoXy2P6bzzNPIDIXXOpEAkJEsLYuAqUcWT1VlqOeq13yoStnw8cqTatJP\n",
       "enlbjgX+pAb9KAIhyFCJTK4ICqEGAARmn/Uh1vphUUKBD7oMnbgQSaxWy6K/onwthHrH+E9pH59d\n",
       "swBePWSmu3tAL1cCsvTpKr3t9j7pUg1gcPwnLGLUQJJcRyolP9pW3fWvcVWlVT3o0yznblaBgsq3\n",
       "rpxTdOutCkUgLqnvEYGgRZN+gJFnggevZp1z/KZki9zW2a/9+Iis978BkGlnSyZwH2EUbVIRaO3i\n",
       "KJk3fBk8+uFA/Txd3SFwIjb6ubtoTkwYMyv58gG6eoSsRdHqRWxmx5Q5OWpSWq86zF1i8G2IP3ez\n",
       "mcyxHiOO7TLnuLqOx/cU1k9cbwFDM0Oi1uJDMuzVGop34SodLGAscHHxiRLeW/VnogbSSmDReaN+\n",
       "Vru0wKg6WpH6XUw/UgIaV594dRbAhSkCZ9Z84LMzhr2rwhMiCnD6S6IrnIXmi3OEDYXrE8sYj0zW\n",
       "cb5G+pf0OCxPIOtwR/VKLm96CYK+UX5BBeKlBfCh05sAhhEqTqqPjhYHoj0H11h9+Hsf8klYbb/Z\n",
       "dE6l7havEWttJGjDrNchSSky3GUtNJDs9ksa/uKaEkQLaR40K51AGDqU4YYuXBJEFBVwKYAUa3kj\n",
       "oxBhvD9/rSe1f/dKBVAaK08FJzB4Ax5FiW5yA0fTaX5LlytAkSslzSaAHZ5Q6+Ote0PVQnQXFtLk\n",
       "p/jdDi0vvLl5Xo7MExnLAbR9FFwqfNKE+zEk2UyHILorqn2fOJhJvmd+JKO9EH8BsuTWtiqj6D9k\n",
       "G8EII93lLM5NGwfhWKwvbAp2A2CvjmNz/W0BUQW02/HZt0ledPeTLvWOq2By/dq8jKnaNsbUVffm\n",
       "HFnUjNg7X6aEuJoKhsBV2Lx4tz/kSvCIvMss2XI/9QPJwL/+k/8fqGShCQ2d5b/7ari9XNOdoFXm\n",
       "mTW2Ul3/F840Qbg5/ZCFCLS9LwTF2GnhvtitG2T0+DAoxuGw+HJ9t3/NcIlHbAG1SywEStT3EExi\n",
       "JrAlvjyxAMCL2I6xQYL3eu31E73Dv2r7NcAfexFo7VBnGgZKnl5rHFSM9Qw5tzTKUHeVsJITPUEV\n",
       "Yf/vDa/scRVYLRymDOyweBddqzdhelaVX7QRe/YByKSa9MSc12nxv8UR3O6o2xzrEKmW5W2cBF5Q\n",
       "YYHbrkjNb0LSUZix1cBpxbItYAA8KM9bvUjmHbaYEaiTxWb8gIi/L7SvtULfosoTm+FxMYUZdhqq\n",
       "E2vr8pFd/sPNinMOmJ8wlUtKKSnvRpVmMZr2bVyz8hYVqYTdIpKEzWz8RmvB1/uH+6pSxdYrAGyC\n",
       "QcQhgZI0xlIN+0rTpDLExzcKKF0cvedOtyl4EVKuRmDar6jP/ujmHRnFC6gKXJWGxXsAWKALwGvl\n",
       "wpgeNbX65fotp0ujQFFC6WZxUX5qEhCbOXdgFmbytpPtpZ/inpsTlD6UuYaGK/QYbkbBmzQRAmpI\n",
       "8Uu1aMcvOrhvGBpgOkcpiLLiiZaTish3b62mCI8YIw69ANXQkHupaN5PKvS6xqSUQNBMu/XWPink\n",
       "1JzhTo89fr0P7G1xLRzXcddm2sLqPSBepVnc5cKfnysgWgUgBpGZZLhKp7TJEiCcHY7xIWV96EGN\n",
       "S6nadWSl5mHZ4csUzL3bXEqnRwyienFY9lkY71hC+dOn6Y0mWunwEGIy/NrnK3UB5Afnx51Jg1yq\n",
       "V+dwNKe85WKbJklx1W1POZS4TK9S6ZfWhG//2im917u+f04nDGh++FxwJrc3CVYUHSLaYelRra+v\n",
       "ZeJxROJHhKiJo8QptJFA+Cl/v4zXfkAFLfhNftfRu0hJ3IA1DB7HkuVVigpXPHLYuj9ONh9yp+8r\n",
       "bv/azLJF+YsgO2UGcvVkPd43EkEjGo6WKp8PDTMrP2iol9mEWuzCg300IgmWuX5tFTCMu598ZiXN\n",
       "iawCj8+sDAaa09j8G9zEAmTV/+E6+K/2SQZRitQIjou8kvXBu+osT3RaDLR6BMOM7KyuS6npjUJm\n",
       "5iq112bPAzSG1dwwRnEyksCyvuuNZStga4IGGBRPTBVlNvghJCVP13rjYEVQozgesULIYF/ZF/R6\n",
       "wZMYTrTYB4H/zMBmNrc3xZgDkYUoNbrO5LVjr0QWubAbL7lFMzAIlRh5PrufMmUNT0DYMTicIFMH\n",
       "9QtfpO7tgRfaPVXgVgWxgMiGW9t+afQIMlSZ+/Eoul3a/CvpSme5HWmT0NPc2zQiNsNIAJ+oXpy+\n",
       "EazmB7ljMYgzSgfFZk5GLQl1I5GpaCaOO2fnVzRwtKQJBXQfS19zdBFs1MqhK0AFMFcB8hDlXa50\n",
       "DKoCEV0udIAAYyADJAAAAwCtgQAAAPlBmiJsQ//+qZYAGevn0AslzOhKxDXqe47TqXmA7GoKAfwp\n",
       "Jb0bYP31kPWfMf+Ld/dxZN4YMcqDcE+Ot9sRAo8kinc1Hk44mJws2q5S4pwnn7VPz8sUPb2Bo35A\n",
       "r5+bjm2ydw4t88W9OPcqNsZklysJK/gPJqc9lh1MMdj9ZIN6l+g+I1lCF/fNpDOR/zvQjZXfWlE2\n",
       "luZUxx1xgRSKAY2H5aDpBkUCDSUvJ4ySYIGQisqIevljmBn+39YsYKvq+1AkhbCdk+DcJuFcDHGc\n",
       "yxTAsUDSiYcY/JUx2vBDBuGk1/9cHEcI0UXerABVxDNJJpd/DPDVMau2DUgAAAChAZ5BeQ3/ABJY\n",
       "0UHUn0ACdveZGKE2u/9z7omVplDHM20QQ4Ax1lGSHXa2PEa4gsZYpDsQyWdMw3+d5yQw+tT2oOXh\n",
       "h8W2XRCGr4s9K5Dh5v9CwaRRgdUpktxrW3BU8U2/ZnaHjDJlRxscv2ODCwvDpuBHKCSjttyMwGjZ\n",
       "WsoBhL+t1C3nm4OUovNDssb+QI0MxGJVqwnn9uVbdvI1+EfMNSEAAACwQZpDPCGTKYQQ//6qVQAF\n",
       "S8fAACdvnwNYHmO9PouLY88To9KiAUhGXurHAmwxsHpA6DAnZxgOPI/nX/zmPksfwKifET4xfab3\n",
       "OWrIP+N5eHZnvUlWtowCiFn//f0PT5M1Kxs8K4UjI1ZSM84FNWWIGuvFT98howqFOYg1xq0duoOn\n",
       "sCM5GxVD6UCLyAOog0bkEQf0Bft9spzcygAxTh5FWBBxvUPJhV2Nmu9iQsY614AAAACzQZplSeEP\n",
       "JlMFPD///qmWABSepqgAnaK8jwBmsNAd2PTVZ/jiJiS3KWZ3N1VxMln6sZBE5BeKqxqtFnuPeb7W\n",
       "0QQfkmPqJ7J7mKgndOEnVx+rsc0y/Cu43OP5cJjzWaFwZfiIZG7MsvBgiNGYuRk5InK69l53ooFq\n",
       "zeNMgz4OLJ13qpmDq0Bi5SM6GHPBAlGf1/M9TfVQJBNmriRT2tgNsedcMAZUm9QOi6PTjsZd6qLV\n",
       "l7EAAACNAZ6EakN/AA6CmLcAIU94hXG+hDQT1BZxFazH4lgavZiJDi516wsZ15JZt9pmf7J9AEEc\n",
       "hgpShtyORs9xjjiASZ5L5tof6JJPzIFGF8pFQht+So73qYwZNuveUrJrWiYG/Ygj81IKg/F5+7Zk\n",
       "W5xNWMkKwL2haSATdjW9FDTIAqmstA+zT0AEtnpUHK8pAAAAnkGahknhDyZTAgh//qpVAAVLx8AA\n",
       "HaU6AfeM7T87cecyqRFrTmcbsMVypRUpukLBPFNfSPhy3NSq0ECHsATbs/6pvJ/j9y0rRzDXd57N\n",
       "PqSUBzEHs5CXZZPgRbEifog7gxvkShT9VmR2n9lCj2GisIZP9hA21iYChAbMtIjqY6USRMpQovol\n",
       "0YRUzRnNkaB+oP67LLPJBZi18UpAw0A9AAAA6kGap0nhDyZTAgh//qpVAAVNqergAuq85KKZA/3T\n",
       "YPll1sitmSH0K24MaHuxUI0JMGEzCs1d6BVB6Sfqn9FxwBH+04vBakCL1hYOKsjA8aQqXk/FVtgo\n",
       "J2KF+fF3WeVvVOVkhwp8wejFoOrqgixpZjbpVVnWczzHX8J9XIr12YE/x0MVgSfTsBY/3r5iWuI1\n",
       "ZLGRV42tyPhYCSDU+hn9rxAkYbhN/FaX02Ptd191HUXB/FIi6hj51KrCX7vR2v7tEidMmpYJOuT/\n",
       "DRFzHYuclZ+BlhDOYh/voyLzlnzT3Qem//+gBOsugAz0CwAAAQBBmshJ4Q8mUwII//61KoACplDq\n",
       "ABNX0rLC+N/v6v0ljrz6ATT5/V6GM00aS2JUrH9imxzoU9sxRCdBkJeieiiF7V6yz1W3s3hlrAz7\n",
       "JJkT7XRY2+YjRqxTZYDgo3OHIaH52h6gASZcgV5fjXhuM6mM5qxO4QMC7RXpdm0Cgczw4n59gcK2\n",
       "qzPHqdJyVtA12Iy8eqJbZTvp8GsMz0SJzOdfW8ahvtxX5CiX3rX/aHJFo7MFpB4OaTLPUjornFcQ\n",
       "YXRmW9rGkr43sCPjPsnz2U274H+NK+WU06BdLXwBNNbyKecBBboYAx1ejIAp6XMLw/e39VzP6v/9\n",
       "kEugqkVqUeLwAAAA2EGa7EnhDyZTAgj//rUqgAKl1UbgBEH0rLUfoksPJhl2BG4Iy+JRPDOA62EL\n",
       "GV+/is1H7b0J9aLhV8It8NlfPL3ZS7F1mGERImk3UUoW9Ru6bKMxyr1UrIPwH7OC0osUtSKuPx4y\n",
       "Qp8E9n/pvoxQF2/c/fbxnwtbCZu8cyguVRv+jiihRCN+EFXw8ZQOeTco/g9rWrMubojdZmBOKdNZ\n",
       "3aYfA0eSjydcG0WsmSZCh6C9VcIg6NcPWGE5GgANeWGxtX4sQVc220PYV0JxxHPqcMkjRkBSoVSe\n",
       "IAAAAJJBnwpFETw7/wAKV5qACduuEsbH+NWW02JRhrRnzYqlM6k5ZD/M3VGZf9UzQfebr7OndIdK\n",
       "sWM4HDfKHHoYb+3kUGbzbMBImEcLWcNqZ10QxOAKVyymATnzD6ZdeI4Kf+xH0WwsLfhoEg2o2KDA\n",
       "HlQKJjLRmsjeJpc44MgynmHyNE/tnIpIgbZ/zmjQJV8Y1l+xYQAAAJoBnyl0Q38ADoIC5ACatNpX\n",
       "WYrmUogItvnW4h3EhDeu03G+5otGc9gdNcJSIU7wNRpbdJMo1pZr2/zACRuhPVBClnQ7MOyT1SUp\n",
       "X/plTuCRWzuQaY4x5tlquhb6Hm33s3nGFkD8ExUKBzuI+g+Ysx97GjKOBMiMJieD+BFC7vcJjd6l\n",
       "cXSj1MpxM3fSZ1l9rBRWRi6UJ+h0KyYsAAAAkAGfK2pDfwAOgU5IAE7e8zj0kr5FPs/6c9yL7pXh\n",
       "FnuDUS/J06t46+mjItAmAOowkhF+tNp3SbabhVYl10NaSAzGEpopano7J9aH0iqK7EZd/0OXvmRm\n",
       "n3RkmoFQn2LFosNhdPJ9iu3qTnLHwu1snbYP5VeykKRi+t83thA1Gw/2hY08kOpxSPrFxhVm4T4p\n",
       "oAAAALNBmzBJqEFomUwIIf/+qlUABUvHwAAdpYlaMab9vJN1f+95oESO2DtJBSqlEnGhx87q0oPT\n",
       "yqHPu6SQfEpySagDsePkmqks5fnmP916aUkEbfSHVtNP360KY0T8YaIbjMmIDGWVEn3iPT4cnGlY\n",
       "Iv13QgP/VM6nNT2cCJ2SdZ8uhXqLY7OXXz2+VP73T6VLY1vu+pE+wd1+V2Ga90oHPN9Z1dbcyRAJ\n",
       "Hd25SjjEkWv6drOdMQAAAIZBn05FESw7/wAKUxktABO0VRdo3dqcU3D+7v1amd28+BjyLBqof9LJ\n",
       "c5BH6NOIjKPSeHj/AlinhC8YdZwve5CHuS894anEcKWyP2VcpCGB8rJGmyHUvBWZBTe8eBf+y0bT\n",
       "wxJVpr5krRPNoLu1b8rFSPnDkKkpuLwrbdgA52yOTA8AessrMQAAAIIBn210Q38ADofcgA/pA/sH\n",
       "jm1dG/RLL3UhEEo/1G3TKwbiN01E/rN6rPDyHjrPj51aB2zJHBDOV+0ohFIl/CtNZvkSVtCTPbuw\n",
       "jLJa5DYiqDg8dn99XirgwIqBTjzOw3x2aMcxVPKhTXiRmAXQCdryb+2qVwkhj0oQQlIu4YsUU6zB\n",
       "AAAAbAGfb2pDfwAOf4SQAJ2Zc3Pc1mRbxP+zyjbn87HCrF0aG503aps8sjoHth8XucJLxplZC467\n",
       "pV6PvGuGfQMN2aplSvgAAvPxUkbLYAAT399NBiIijmdL2QiXIp4466Qbx8umkihovSLyhTZ0wAAA\n",
       "AMpBm3NJqEFsmUwIIf/+qlUABU4DR7YAE1exyA9zms42pbWs7zpTOwyY8ps3b/4mkzujzPM+beF9\n",
       "LqXKehMTwIgVTeCoY7wAuqK7cspcvx6dtBdNhfPq5+ivBBCcGV4gQMMllXZXQmhImJa4lrN/cLau\n",
       "9ogU22kYfV69dWPjMauSkEAOaMl7oIS27HEAnu/pzgcL1V6a0ISJydlYMHMyGrcyuKAT90zMgl22\n",
       "DIiC3T+pIDtJK2EeHUD+cYVn3fz7g0TdLrwZJuBXVqGAAAAAlkGfkUUVLDf/AA5/hJAAnb3mZo7d\n",
       "wr6DUvoX6By0TYNF4YATGYiNXM0S6tmmfhgTwSZkxR6uyYmSDxOzJKMFrU70a/LzlALMj9KHwlAl\n",
       "JMnPfoT2ZTj/B+FizEVZb//v7j9ZS3qoPdh394RoC6AQjofFd2D90ttcxGusuR0SBXFhwErNL7GV\n",
       "/avdnae3HZ00oJWmnQSnkQAAAIwBn7JqQ38ADn+EkACdkRRw2d7DhyKG2bZTAaxGqQges9qxY7MT\n",
       "rlR35wuToH2OUAAgkFgs3Ff4177eQdLieLa4HrX9cHV2ertfoermaFx8GtyHMh9DsLKuoshzNteQ\n",
       "rRTtvCJh2TsnGjpNYqBjmGJ66DhgqjyHDsLugqLPto6TPdh4QAAcWQgYFbbJwAAAAWxBm7VJqEFs\n",
       "mUwUTD///qmWABZuFvwlRTwAthETnBjMj3VfRHWhtTTkVJp1pNpOU9Qrm0cG264V+GSPqVKbgMFs\n",
       "55TlykWOHzSWfJR9v0p7t/TzORc1+AWyVPcCN4ziUUeLN33eEWLv1N9/qPefwAhG4qbjXeJM3ns4\n",
       "PX+u4FJNGS/83194qxTCvY/zsyLgkd3gOk7z3Da4bf34gvv8notqjs1EvYcw0Hufhw1/AmvwfYBV\n",
       "biAaus2pvmY5az64TB9ylsFqItNC/zQIrP0Bjxc9h0qHzXOHumCIBKruAMjQ4UAABxPAy0J0TC23\n",
       "HSAjGzsOjnhQ8Y1uuqrEXLJO+dwQtFgn69ZUCoRGxccNkHG0fQcfd3VRTnUoS2eM8i+EQx2AdhlB\n",
       "Lj5c0dUSqE7FZ+tZwtWioCc8mheIhT+HrqrspsPOVaQzzK4m0AeskrdMjK5bJ16qEL4C9F+tFnLo\n",
       "KXsI2r94oMY4g3ChwNnAAAAAfQGf1GpDfwAPiUIDnPiAgAnb3eJDtQjEAmoORxjHyg5Z4HZbn7Ii\n",
       "o/IVIhpZlqETftVb8tuCyMMWkkuXxx+HJlci/zgZKmtoKFL0NQxRp1iX2tUKb7Sua0/PO2cPz16T\n",
       "TD/Ugj0U9py5LYvJJ4MXyCkW1aZLiBG/cjBx4WnlAAAAiEGb2EnhClJlMCG//qeEACjbckACIPeZ\n",
       "yunH4Vd0Z79Wlw3CMX/osneD53rrHK0PDw66a4xoYRHvp5UyGVz3iijvDd4gP4doowyoketzyW7w\n",
       "y2jQ0qBuNHJzvn6wyNwndtf1qSy10+z3hSRVXqMcmZR1tWYfRygtqNOwVsL+k81dyTSc2R9l3twA\n",
       "AAByQZ/2RTRMN/8ADn+EkAC6rkJVX1X6cyBK11ri3rlS2EAVX16NB5XUUbEfYVcgCQOfyYxNaVc7\n",
       "l6+Bm8IqqzW6sQ7vMPagO2+WRMlwgvCVFo3/dy2YxC+Hlh8PwoxYuzPYv5+Of+/vIFx6we/4pYJ0\n",
       "DAbzAAAAfwGeF2pDfwAOgU5IAE7abSusrXF9PAzfdZUegnN9yr2X770BG1r0AsuicFML4XJWN4d2\n",
       "yWMg3KRpQ+qQHbTqQkyHd4S/AmbY/NF2oOvfRlJEbQ5jjI1xcRUuHkMaoRdUVtXEpwoO2N/mTD8v\n",
       "MTc2qN4Yfifn/gcbT647z23l2YEAAAQ6bW9vdgAAAGxtdmhkAAAAAAAAAAAAAAAAAAAD6AAACcQA\n",
       "AQAAAQAAAAAAAAAAAAAAAAEAAAAAAAAAAAAAAAAAAAABAAAAAAAAAAAAAAAAAABAAAAAAAAAAAAA\n",
       "AAAAAAAAAAAAAAAAAAAAAAAAAAAAAgAAA2R0cmFrAAAAXHRraGQAAAADAAAAAAAAAAAAAAABAAAA\n",
       "AAAACcQAAAAAAAAAAAAAAAAAAAAAAAEAAAAAAAAAAAAAAAAAAAABAAAAAAAAAAAAAAAAAABAAAAA\n",
       "AbAAAAEgAAAAAAAkZWR0cwAAABxlbHN0AAAAAAAAAAEAAAnEAAAIAAABAAAAAALcbWRpYQAAACBt\n",
       "ZGhkAAAAAAAAAAAAAAAAAAAoAAAAZABVxAAAAAAALWhkbHIAAAAAAAAAAHZpZGUAAAAAAAAAAAAA\n",
       "AABWaWRlb0hhbmRsZXIAAAACh21pbmYAAAAUdm1oZAAAAAEAAAAAAAAAAAAAACRkaW5mAAAAHGRy\n",
       "ZWYAAAAAAAAAAQAAAAx1cmwgAAAAAQAAAkdzdGJsAAAAs3N0c2QAAAAAAAAAAQAAAKNhdmMxAAAA\n",
       "AAAAAAEAAAAAAAAAAAAAAAAAAAAAAbABIABIAAAASAAAAAAAAAABAAAAAAAAAAAAAAAAAAAAAAAA\n",
       "AAAAAAAAAAAAAAAAAAAAGP//AAAAMWF2Y0MBZAAV/+EAGGdkABWs2UGwloQAAAMABAAAAwBQPFi2\n",
       "WAEABmjr48siwAAAABx1dWlka2hA8l8kT8W6OaUbzwMj8wAAAAAAAAAYc3R0cwAAAAAAAAABAAAA\n",
       "GQAABAAAAAAUc3RzcwAAAAAAAAABAAAAAQAAALhjdHRzAAAAAAAAABUAAAABAAAIAAAAAAEAAAwA\n",
       "AAAAAQAABAAAAAABAAAIAAAAAAEAAAwAAAAAAQAABAAAAAADAAAIAAAAAAEAABQAAAAAAQAACAAA\n",
       "AAABAAAAAAAAAAEAAAQAAAAAAQAAFAAAAAABAAAIAAAAAAEAAAAAAAAAAQAABAAAAAABAAAQAAAA\n",
       "AAIAAAQAAAAAAQAADAAAAAABAAAEAAAAAAEAABAAAAAAAgAABAAAAAAcc3RzYwAAAAAAAAABAAAA\n",
       "AQAAABkAAAABAAAAeHN0c3oAAAAAAAAAAAAAABkAACJqAAAA/QAAAKUAAAC0AAAAtwAAAJEAAACi\n",
       "AAAA7gAAAQQAAADcAAAAlgAAAJ4AAACUAAAAtwAAAIoAAACGAAAAcAAAAM4AAACaAAAAkAAAAXAA\n",
       "AACBAAAAjAAAAHYAAACDAAAAFHN0Y28AAAAAAAAAAQAAACwAAABidWR0YQAAAFptZXRhAAAAAAAA\n",
       "ACFoZGxyAAAAAAAAAABtZGlyYXBwbAAAAAAAAAAAAAAAAC1pbHN0AAAAJal0b28AAAAdZGF0YQAA\n",
       "AAEAAAAATGF2ZjU4LjIwLjEwMA==\n",
       "\">\n",
       "  Your browser does not support the video tag.\n",
       "</video>"
      ],
      "text/plain": [
       "<matplotlib.animation.FuncAnimation at 0x7fdaacbc8f28>"
      ]
     },
     "execution_count": 47,
     "metadata": {},
     "output_type": "execute_result"
    }
   ],
   "source": [
    "def DeleteParticle(particle, fieldset, time):\n",
    "    particle.delete()\n",
    "import imageio\n",
    "pset = ParticleSet.from_list(fieldset=fieldset_imos,\n",
    "                             pclass=JITParticle,\n",
    "                             lon=[151.2,  151.3],\n",
    "                             lat=[-33.92, -33.9],\n",
    "                             time=time_imos[180])\n",
    "images=[]\n",
    "pset.execute(AdvectionRK4, #Only driven by currents\n",
    "             runtime=timedelta(days=1), \n",
    "             dt=-timedelta(minutes=5), #dt<0 : backwards tracking\n",
    "             recovery={ErrorCode.ErrorOutOfBounds: DeleteParticle}, #Delete particles when out of bounds\n",
    "             output_file=pset.ParticleFile(name=\"TcRY.nc\", outputdt=timedelta(hours=1)))\n",
    "\n",
    "plotTrajectoriesFile('TcRY.nc', mode='movie2d_notebook')\n",
    "#pset.execute(AdvectionRK4, runtime=timedelta(hours=72), dt=-timedelta(minutes=5), recovery={ErrorCode.ErrorOutOfBounds: DeleteParticle})\n",
    "#pset.show(domain={'N':-31, 'S':-35, 'E':154, 'W':150})"
   ]
  },
  {
   "cell_type": "code",
   "execution_count": 8,
   "metadata": {},
   "outputs": [
    {
     "data": {
      "text/plain": [
       "(1000,)"
      ]
     },
     "execution_count": 8,
     "metadata": {},
     "output_type": "execute_result"
    }
   ],
   "source": [
    "values.shape"
   ]
  },
  {
   "cell_type": "code",
   "execution_count": 9,
   "metadata": {},
   "outputs": [
    {
     "data": {
      "text/plain": [
       "(100, 200)"
      ]
     },
     "execution_count": 9,
     "metadata": {},
     "output_type": "execute_result"
    }
   ],
   "source": [
    "grid_x.shape"
   ]
  },
  {
   "cell_type": "code",
   "execution_count": 2,
   "metadata": {},
   "outputs": [],
   "source": [
    "%matplotlib inline\n",
    "import pandas as pd\n",
    "import matplotlib.pyplot as plt\n"
   ]
  },
  {
   "cell_type": "code",
   "execution_count": 3,
   "metadata": {},
   "outputs": [],
   "source": [
    "from datetime import datetime"
   ]
  },
  {
   "cell_type": "code",
   "execution_count": 4,
   "metadata": {},
   "outputs": [],
   "source": [
    "now=datetime.now()"
   ]
  },
  {
   "cell_type": "code",
   "execution_count": 5,
   "metadata": {},
   "outputs": [
    {
     "data": {
      "text/plain": [
       "datetime.datetime(2019, 6, 19, 10, 4, 34, 22574)"
      ]
     },
     "execution_count": 5,
     "metadata": {},
     "output_type": "execute_result"
    }
   ],
   "source": [
    "now"
   ]
  },
  {
   "cell_type": "code",
   "execution_count": 6,
   "metadata": {},
   "outputs": [
    {
     "data": {
      "text/plain": [
       "2019"
      ]
     },
     "execution_count": 6,
     "metadata": {},
     "output_type": "execute_result"
    }
   ],
   "source": [
    "now.year"
   ]
  },
  {
   "cell_type": "code",
   "execution_count": 7,
   "metadata": {},
   "outputs": [
    {
     "data": {
      "text/plain": [
       "datetime.datetime(2019, 6, 19, 10, 5, 19, 333601)"
      ]
     },
     "execution_count": 7,
     "metadata": {},
     "output_type": "execute_result"
    }
   ],
   "source": [
    "datetime.now()"
   ]
  },
  {
   "cell_type": "code",
   "execution_count": 8,
   "metadata": {},
   "outputs": [],
   "source": [
    "from datetime import timedelta"
   ]
  },
  {
   "cell_type": "code",
   "execution_count": 9,
   "metadata": {},
   "outputs": [],
   "source": [
    "start=datetime(2016,10,1)"
   ]
  },
  {
   "cell_type": "code",
   "execution_count": 12,
   "metadata": {},
   "outputs": [
    {
     "data": {
      "text/plain": [
       "datetime.datetime(2016, 10, 1, 5, 0)"
      ]
     },
     "execution_count": 12,
     "metadata": {},
     "output_type": "execute_result"
    }
   ],
   "source": [
    "start+timedelta(hours=5)"
   ]
  },
  {
   "cell_type": "code",
   "execution_count": 13,
   "metadata": {},
   "outputs": [
    {
     "data": {
      "text/plain": [
       "datetime.datetime(1970, 1, 1, 10, 0)"
      ]
     },
     "execution_count": 13,
     "metadata": {},
     "output_type": "execute_result"
    }
   ],
   "source": [
    "datetime.fromtimestamp(0)"
   ]
  },
  {
   "cell_type": "code",
   "execution_count": 1,
   "metadata": {},
   "outputs": [
    {
     "name": "stderr",
     "output_type": "stream",
     "text": [
      "WARNING: Casting depth data to np.float32\n"
     ]
    }
   ],
   "source": [
    "from parcels import FieldSet, ParticleSet, Variable, JITParticle, AdvectionRK4, plotTrajectoriesFile, ErrorCode\n",
    "import numpy as np\n",
    "import scipy as sc\n",
    "import math\n",
    "from datetime import timedelta, datetime\n",
    "from operator import attrgetter\n",
    "import copy_plottrajectoriesfile as cpt\n",
    "import matplotlib.animation as animation\n",
    "import imageio\n",
    "import matplotlib.pyplot as plt\n",
    "import scipy.io as sio #to load matlab file\n",
    "\n",
    "\"\"\"\n",
    "Load IMOS raw data\n",
    "\"\"\"\n",
    "filenames = \"../raw_imos_current_data/IMOS_OceanCurrent_HV_2019_C-20190520T232835Z.nc\"\n",
    "variables = {'U' : 'UCUR',\n",
    "                'V' : 'VCUR'}\n",
    "dimensions = {'lat' : 'LATITUDE',\n",
    "                  'lon' : 'LONGITUDE',\n",
    "                  'time' : 'TIME'}\n",
    "fieldset_imos = FieldSet.from_netcdf(filenames, variables, dimensions, deferred_load=False)"
   ]
  },
  {
   "cell_type": "code",
   "execution_count": 2,
   "metadata": {},
   "outputs": [
    {
     "name": "stdout",
     "output_type": "stream",
     "text": [
      "<class 'netCDF4._netCDF4.Variable'>\n",
      "float64 TIME(TIME)\n",
      "    long_name: analysis time\n",
      "    standard_name: time\n",
      "    units: days since 1985-01-01 00:00:00+00:00\n",
      "    coordinate_type: TIME\n",
      "    calendar: gregorian\n",
      "unlimited dimensions: TIME\n",
      "current shape = (111,)\n",
      "filling on, default _FillValue of 9.969209968386869e+36 used\n",
      "\n"
     ]
    }
   ],
   "source": [
    "\n",
    "\"\"\"\n",
    "Take TIME variable from the IMOS raw data\n",
    "\"\"\"\n",
    "from netCDF4 import Dataset\n",
    "dataset=Dataset(filenames)\n",
    "print(dataset.variables['TIME'])\n",
    "time_imos=np.array(dataset.variables['TIME'])"
   ]
  },
  {
   "cell_type": "code",
   "execution_count": 16,
   "metadata": {},
   "outputs": [
    {
     "data": {
      "text/plain": [
       "351"
      ]
     },
     "execution_count": 16,
     "metadata": {},
     "output_type": "execute_result"
    }
   ],
   "source": [
    "len(fieldset_imos.U.data[0])"
   ]
  },
  {
   "cell_type": "code",
   "execution_count": 18,
   "metadata": {},
   "outputs": [
    {
     "data": {
      "text/plain": [
       "(array([515]),)"
      ]
     },
     "execution_count": 18,
     "metadata": {},
     "output_type": "execute_result"
    }
   ],
   "source": [
    "np.where(longi==160)\n"
   ]
  },
  {
   "cell_type": "code",
   "execution_count": 19,
   "metadata": {},
   "outputs": [
    {
     "data": {
      "text/plain": [
       "array([150. , 150.2, 150.4, 150.6, 150.8, 151. , 151.2, 151.4, 151.6,\n",
       "       151.8, 152. , 152.2, 152.4, 152.6, 152.8, 153. , 153.2, 153.4,\n",
       "       153.6, 153.8, 154. , 154.2, 154.4, 154.6, 154.8, 155. , 155.2,\n",
       "       155.4, 155.6, 155.8, 156. , 156.2, 156.4, 156.6, 156.8, 157. ,\n",
       "       157.2, 157.4, 157.6, 157.8, 158. , 158.2, 158.4, 158.6, 158.8,\n",
       "       159. , 159.2, 159.4, 159.6, 159.8, 160. ], dtype=float32)"
      ]
     },
     "execution_count": 19,
     "metadata": {},
     "output_type": "execute_result"
    }
   ],
   "source": [
    "fieldset_imos.U.lon[465:516]"
   ]
  },
  {
   "cell_type": "code",
   "execution_count": 38,
   "metadata": {},
   "outputs": [
    {
     "data": {
      "text/plain": [
       "120"
      ]
     },
     "execution_count": 38,
     "metadata": {},
     "output_type": "execute_result"
    }
   ],
   "source": [
    "i_lat_min=list(fieldset_imos.U.lat)\n",
    "i=i_lat_min.index(-36)\n",
    "i"
   ]
  },
  {
   "cell_type": "code",
   "execution_count": 41,
   "metadata": {},
   "outputs": [],
   "source": [
    "\"\"\"\n",
    "Change U and V shape \n",
    "\"\"\"\n",
    "i_lat_min=list(fieldset_imos.U.lat).index(-36)\n",
    "i_lat_max=list(fieldset_imos.U.lat).index(-24)+1\n",
    "\n",
    "i_lon_min=list(fieldset_imos.U.lon).index(150)\n",
    "i_lon_max=list(fieldset_imos.U.lon).index(160)+1\n",
    "\n",
    "lati=fieldset_imos.U.lat[i_lat_min:i_lat_max]\n",
    "longi=fieldset_imos.U.lon[i_lon_min:i_lon_max]\n",
    "ucur=fieldset_imos.U.data\n",
    "vcur=fieldset_imos.V.data\n",
    "u_imos=[]\n",
    "v_imos=[]\n",
    "grid_imos=[[],[]]\n",
    "\n",
    "for i in range(len(lati)): #Create grid of IMOS latitude longitude\n",
    "    for j in range(len(longi)):\n",
    "        grid_imos[0].append(lati[i])\n",
    "        grid_imos[1].append(longi[j]) \n",
    "grid_imos=np.asarray(grid_imos).T\n",
    "\n",
    "for t in range(len(ucur)): #for every time step\n",
    "    values_u=[]\n",
    "    values_v=[]\n",
    "    for i in range(i_lat_min,i_lat_max): #take U and V for every couple (lati,longi)\n",
    "        for j in range(i_lon_min,i_lon_max):\n",
    "            values_u.append(ucur[t,i,j])\n",
    "            values_v.append(vcur[t,i,j])\n",
    "    u_imos.append(np.asarray(values_u))\n",
    "    v_imos.append(np.asarray(values_v))\n",
    "grid_lat,grid_lon = np.mgrid[-24:-36:120j, 150:160:100j] \n",
    "grid_exp=(grid_lat,grid_lon)"
   ]
  },
  {
   "cell_type": "code",
   "execution_count": 42,
   "metadata": {},
   "outputs": [
    {
     "name": "stdout",
     "output_type": "stream",
     "text": [
      "number 0 done\n",
      "number 1 done\n",
      "number 2 done\n",
      "number 3 done\n",
      "number 4 done\n",
      "number 5 done\n",
      "number 6 done\n",
      "number 7 done\n",
      "number 8 done\n",
      "number 9 done\n",
      "number 10 done\n",
      "number 11 done\n",
      "number 12 done\n",
      "number 13 done\n",
      "number 14 done\n",
      "number 15 done\n",
      "number 16 done\n",
      "number 17 done\n",
      "number 18 done\n",
      "number 19 done\n",
      "number 20 done\n",
      "number 21 done\n",
      "number 22 done\n",
      "number 23 done\n",
      "number 24 done\n",
      "number 25 done\n",
      "number 26 done\n",
      "number 27 done\n",
      "number 28 done\n",
      "number 29 done\n",
      "number 30 done\n",
      "number 31 done\n",
      "number 32 done\n",
      "number 33 done\n",
      "number 34 done\n",
      "number 35 done\n",
      "number 36 done\n",
      "number 37 done\n",
      "number 38 done\n",
      "number 39 done\n",
      "number 40 done\n",
      "number 41 done\n",
      "number 42 done\n",
      "number 43 done\n",
      "number 44 done\n",
      "number 45 done\n",
      "number 46 done\n",
      "number 47 done\n",
      "number 48 done\n",
      "number 49 done\n",
      "number 50 done\n",
      "number 51 done\n",
      "number 52 done\n",
      "number 53 done\n",
      "number 54 done\n",
      "number 55 done\n",
      "number 56 done\n",
      "number 57 done\n",
      "number 58 done\n",
      "number 59 done\n",
      "number 60 done\n",
      "number 61 done\n",
      "number 62 done\n",
      "number 63 done\n",
      "number 64 done\n",
      "number 65 done\n",
      "number 66 done\n",
      "number 67 done\n",
      "number 68 done\n",
      "number 69 done\n",
      "number 70 done\n",
      "number 71 done\n",
      "number 72 done\n",
      "number 73 done\n",
      "number 74 done\n",
      "number 75 done\n",
      "number 76 done\n",
      "number 77 done\n",
      "number 78 done\n",
      "number 79 done\n",
      "number 80 done\n",
      "number 81 done\n",
      "number 82 done\n",
      "number 83 done\n",
      "number 84 done\n",
      "number 85 done\n",
      "number 86 done\n",
      "number 87 done\n",
      "number 88 done\n",
      "number 89 done\n",
      "number 90 done\n",
      "number 91 done\n",
      "number 92 done\n",
      "number 93 done\n",
      "number 94 done\n",
      "number 95 done\n",
      "number 96 done\n",
      "number 97 done\n",
      "number 98 done\n",
      "number 99 done\n",
      "number 100 done\n",
      "number 101 done\n",
      "number 102 done\n",
      "number 103 done\n",
      "number 104 done\n",
      "number 105 done\n",
      "number 106 done\n",
      "number 107 done\n",
      "number 108 done\n",
      "number 109 done\n",
      "number 110 done\n"
     ]
    }
   ],
   "source": [
    "\"\"\"\n",
    "Extrapolate U and V data from grid_imos to grid_exp for each time step\n",
    "\"\"\"\n",
    "\n",
    "u_ext=[[] for i in range(len(u_imos))]\n",
    "v_ext=[[] for i in range(len(v_imos))]\n",
    "for i in range(len(u_imos)):\n",
    "    u_ext[i] = sc.interpolate.griddata(grid_imos, u_imos[i], grid_exp, method='linear')\n",
    "    v_ext[i] = sc.interpolate.griddata(grid_imos, v_imos[i], grid_exp, method='linear')\n",
    "    print(\"number \"+str(i)+\" done\")"
   ]
  },
  {
   "cell_type": "code",
   "execution_count": 25,
   "metadata": {},
   "outputs": [],
   "source": [
    "\"\"\"\n",
    "time_imos float to datetime object\n",
    "\"\"\"\n",
    "\n",
    "time=[]\n",
    "for i in range(len(time_imos)):\n",
    "    time.append(datetime.timestamp(datetime(1985,1,1,0,0,0)+timedelta(days=time_imos[i])))"
   ]
  },
  {
   "cell_type": "code",
   "execution_count": 26,
   "metadata": {},
   "outputs": [
    {
     "name": "stderr",
     "output_type": "stream",
     "text": [
      "WARNING: Casting lon data to np.float32\n",
      "WARNING: Casting lat data to np.float32\n",
      "WARNING: Casting field data to np.float32\n"
     ]
    }
   ],
   "source": [
    "\"\"\"\n",
    "Create fieldset with extrapolated data\n",
    "\"\"\"\n",
    "\n",
    "u_ext = np.array(u_ext,dtype=np.float64)\n",
    "v_ext = np.array(v_ext,dtype=np.float64)\n",
    "time_ext = np.array(time,dtype=np.float64)\n",
    "data = {'U' : u_ext,\n",
    "        'V' : v_ext}\n",
    "dims = {'lon' : grid_lon,\n",
    "        'lat' : grid_lat,\n",
    "        'time' : time_ext}\n",
    "\n",
    "fieldset_ext = FieldSet.from_data(data, dims, allow_time_extrapolation=True)"
   ]
  },
  {
   "cell_type": "code",
   "execution_count": 27,
   "metadata": {},
   "outputs": [],
   "source": [
    "%matplotlib qt"
   ]
  },
  {
   "cell_type": "code",
   "execution_count": 28,
   "metadata": {},
   "outputs": [],
   "source": [
    "\"\"\"\n",
    "Compare before and after data extrapolation\n",
    "\"\"\"\n",
    "fieldset_imos.U.show(domain={'N':-24, 'S':-36, 'E':160, 'W':150},land=False,show_time=time_imos[0])\n",
    "fieldset_ext.U.show(land=False,show_time=time_ext[0])"
   ]
  },
  {
   "cell_type": "code",
   "execution_count": 6,
   "metadata": {},
   "outputs": [
    {
     "data": {
      "image/png": "[encoded data removed]",
      "text/plain": [
       "<Figure size 432x288 with 1 Axes>"
      ]
     },
     "metadata": {
      "needs_background": "light"
     },
     "output_type": "display_data"
    }
   ],
   "source": []
  },
  {
   "cell_type": "code",
   "execution_count": null,
   "metadata": {},
   "outputs": [],
   "source": []
  }
 ],
 "metadata": {
  "kernelspec": {
   "display_name": "Python 3",
   "language": "python",
   "name": "python3"
  },
  "language_info": {
   "codemirror_mode": {
    "name": "ipython",
    "version": 3
   },
   "file_extension": ".py",
   "mimetype": "text/x-python",
   "name": "python",
   "nbconvert_exporter": "python",
   "pygments_lexer": "ipython3",
   "version": "3.7.3"
  }
 },
 "nbformat": 4,
 "nbformat_minor": 2
}
