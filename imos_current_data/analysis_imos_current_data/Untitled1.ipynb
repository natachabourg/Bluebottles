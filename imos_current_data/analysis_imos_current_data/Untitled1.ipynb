{
 "cells": [
  {
   "cell_type": "code",
   "execution_count": 2,
   "metadata": {},
   "outputs": [],
   "source": [
    "import numpy as np\n",
    "def func(x, y):\n",
    "    return x*(1-x)*np.cos(4*np.pi*x) * np.sin(4*np.pi*y**2)**2"
   ]
  },
  {
   "cell_type": "code",
   "execution_count": 3,
   "metadata": {},
   "outputs": [],
   "source": [
    "grid_x, grid_y = np.mgrid[0:1:100j, 0:1:200j]\n",
    "points = np.random.rand(1000, 2)\n",
    "values = func(points[:,0], points[:,1])\n",
    "from scipy.interpolate import griddata\n",
    "grid_z0 = griddata(points, values, (grid_x, grid_y), method='nearest')"
   ]
  },
  {
   "cell_type": "code",
   "execution_count": 7,
   "metadata": {},
   "outputs": [
    {
     "data": {
      "text/plain": [
       "(1000, 2)"
      ]
     },
     "execution_count": 7,
     "metadata": {},
     "output_type": "execute_result"
    }
   ],
   "source": [
    "gri"
   ]
  },
  {
   "cell_type": "code",
   "execution_count": 8,
   "metadata": {},
   "outputs": [
    {
     "data": {
      "text/plain": [
       "(1000,)"
      ]
     },
     "execution_count": 8,
     "metadata": {},
     "output_type": "execute_result"
    }
   ],
   "source": [
    "values.shape"
   ]
  },
  {
   "cell_type": "code",
   "execution_count": 9,
   "metadata": {},
   "outputs": [
    {
     "data": {
      "text/plain": [
       "(100, 200)"
      ]
     },
     "execution_count": 9,
     "metadata": {},
     "output_type": "execute_result"
    }
   ],
   "source": [
    "grid_x.shape"
   ]
  },
  {
   "cell_type": "code",
   "execution_count": 2,
   "metadata": {},
   "outputs": [],
   "source": [
    "%matplotlib inline\n",
    "import pandas as pd\n",
    "import matplotlib.pyplot as plt\n"
   ]
  },
  {
   "cell_type": "code",
   "execution_count": 3,
   "metadata": {},
   "outputs": [],
   "source": [
    "from datetime import datetime"
   ]
  },
  {
   "cell_type": "code",
   "execution_count": 4,
   "metadata": {},
   "outputs": [],
   "source": [
    "now=datetime.now()"
   ]
  },
  {
   "cell_type": "code",
   "execution_count": 5,
   "metadata": {},
   "outputs": [
    {
     "data": {
      "text/plain": [
       "datetime.datetime(2019, 6, 19, 10, 4, 34, 22574)"
      ]
     },
     "execution_count": 5,
     "metadata": {},
     "output_type": "execute_result"
    }
   ],
   "source": [
    "now"
   ]
  },
  {
   "cell_type": "code",
   "execution_count": 6,
   "metadata": {},
   "outputs": [
    {
     "data": {
      "text/plain": [
       "2019"
      ]
     },
     "execution_count": 6,
     "metadata": {},
     "output_type": "execute_result"
    }
   ],
   "source": [
    "now.year"
   ]
  },
  {
   "cell_type": "code",
   "execution_count": 7,
   "metadata": {},
   "outputs": [
    {
     "data": {
      "text/plain": [
       "datetime.datetime(2019, 6, 19, 10, 5, 19, 333601)"
      ]
     },
     "execution_count": 7,
     "metadata": {},
     "output_type": "execute_result"
    }
   ],
   "source": [
    "datetime.now()"
   ]
  },
  {
   "cell_type": "code",
   "execution_count": 8,
   "metadata": {},
   "outputs": [],
   "source": [
    "from datetime import timedelta"
   ]
  },
  {
   "cell_type": "code",
   "execution_count": 9,
   "metadata": {},
   "outputs": [],
   "source": [
    "start=datetime(2016,10,1)"
   ]
  },
  {
   "cell_type": "code",
   "execution_count": 12,
   "metadata": {},
   "outputs": [
    {
     "data": {
      "text/plain": [
       "datetime.datetime(2016, 10, 1, 5, 0)"
      ]
     },
     "execution_count": 12,
     "metadata": {},
     "output_type": "execute_result"
    }
   ],
   "source": [
    "start+timedelta(hours=5)"
   ]
  },
  {
   "cell_type": "code",
   "execution_count": 13,
   "metadata": {},
   "outputs": [
    {
     "data": {
      "text/plain": [
       "datetime.datetime(1970, 1, 1, 10, 0)"
      ]
     },
     "execution_count": 13,
     "metadata": {},
     "output_type": "execute_result"
    }
   ],
   "source": [
    "datetime.fromtimestamp(0)"
   ]
  },
  {
   "cell_type": "code",
   "execution_count": 1,
   "metadata": {},
   "outputs": [
    {
     "name": "stderr",
     "output_type": "stream",
     "text": [
      "WARNING: Casting depth data to np.float32\n"
     ]
    }
   ],
   "source": [
    "from parcels import FieldSet, ParticleSet, Variable, JITParticle, AdvectionRK4, plotTrajectoriesFile, ErrorCode\n",
    "import numpy as np\n",
    "import scipy as sc\n",
    "import math\n",
    "from datetime import timedelta, datetime\n",
    "from operator import attrgetter\n",
    "import copy_plottrajectoriesfile as cpt\n",
    "import matplotlib.animation as animation\n",
    "import imageio\n",
    "import matplotlib.pyplot as plt\n",
    "import scipy.io as sio #to load matlab file\n",
    "\n",
    "\"\"\"\n",
    "Load IMOS raw data\n",
    "\"\"\"\n",
    "filenames = \"../raw_imos_current_data/IMOS_OceanCurrent_HV_2019_C-20190520T232835Z.nc\"\n",
    "variables = {'U' : 'UCUR',\n",
    "                'V' : 'VCUR'}\n",
    "dimensions = {'lat' : 'LATITUDE',\n",
    "                  'lon' : 'LONGITUDE',\n",
    "                  'time' : 'TIME'}\n",
    "fieldset_imos = FieldSet.from_netcdf(filenames, variables, dimensions, deferred_load=False)"
   ]
  },
  {
   "cell_type": "code",
   "execution_count": 2,
   "metadata": {},
   "outputs": [
    {
     "name": "stdout",
     "output_type": "stream",
     "text": [
      "<class 'netCDF4._netCDF4.Variable'>\n",
      "float64 TIME(TIME)\n",
      "    long_name: analysis time\n",
      "    standard_name: time\n",
      "    units: days since 1985-01-01 00:00:00+00:00\n",
      "    coordinate_type: TIME\n",
      "    calendar: gregorian\n",
      "unlimited dimensions: TIME\n",
      "current shape = (111,)\n",
      "filling on, default _FillValue of 9.969209968386869e+36 used\n",
      "\n"
     ]
    }
   ],
   "source": [
    "\n",
    "\"\"\"\n",
    "Take TIME variable from the IMOS raw data\n",
    "\"\"\"\n",
    "from netCDF4 import Dataset\n",
    "dataset=Dataset(filenames)\n",
    "print(dataset.variables['TIME'])\n",
    "time_imos=np.array(dataset.variables['TIME'])"
   ]
  },
  {
   "cell_type": "code",
   "execution_count": null,
   "metadata": {},
   "outputs": [],
   "source": []
  },
  {
   "cell_type": "code",
   "execution_count": 3,
   "metadata": {},
   "outputs": [],
   "source": [
    "\"\"\"\n",
    "Change U and V shape \n",
    "\"\"\"\n",
    "\n",
    "lati=fieldset_imos.U.lat\n",
    "longi=fieldset_imos.U.lon\n",
    "ucur=fieldset_imos.U.data\n",
    "vcur=fieldset_imos.V.data\n",
    "u_imos=[]\n",
    "v_imos=[]\n",
    "grid_imos=[[],[]]\n",
    "\n",
    "for i in range(len(lati)): #Create grid of IMOS latitude longitude\n",
    "    for j in range(len(longi)):\n",
    "        grid_imos[0].append(lati[i])\n",
    "        grid_imos[1].append(longi[j]) \n",
    "grid_imos=np.asarray(grid_imos).T\n",
    "\n",
    "for t in range(len(ucur)): #for every time step\n",
    "    values_u=[]\n",
    "    values_v=[]\n",
    "    for i in range(len(lati)): #take U and V for every couple (lati,longi)\n",
    "        for j in range(len(longi)):\n",
    "            values_u.append(ucur[t,i,j])\n",
    "            values_v.append(vcur[t,i,j])\n",
    "    u_imos.append(np.asarray(values_u))\n",
    "    v_imos.append(np.asarray(values_v))\n"
   ]
  },
  {
   "cell_type": "code",
   "execution_count": 24,
   "metadata": {},
   "outputs": [
    {
     "data": {
      "text/plain": [
       "datetime.datetime(1985, 1, 1, 4, 0)"
      ]
     },
     "execution_count": 24,
     "metadata": {},
     "output_type": "execute_result"
    }
   ],
   "source": [
    "\"\"\"\n",
    "time_imos float to datetime object\n",
    "\"\"\"\n",
    "\n",
    "time=[]\n",
    "for i in range(len(time_imos)):\n",
    "    time.append(datetime.fromtimestamp(0)+timedelta(days=time_imos[i])+(datetime(1985,1,1,0,0,0)-datetime.fromtimestamp(0)))\n"
   ]
  },
  {
   "cell_type": "code",
   "execution_count": 26,
   "metadata": {},
   "outputs": [],
   "source": [
    "hey=[]\n",
    "for i in range(len(temps)):\n",
    "    hey.append(datetime.fromtimestamp(temps[i]))"
   ]
  },
  {
   "cell_type": "code",
   "execution_count": 28,
   "metadata": {},
   "outputs": [],
   "source": [
    "for i in range(len(temps)):\n",
    "    hey[i]+=timedelta(days=365.25*15)"
   ]
  },
  {
   "cell_type": "code",
   "execution_count": 29,
   "metadata": {},
   "outputs": [
    {
     "data": {
      "text/plain": [
       "[datetime.datetime(1985, 1, 1, 7, 26, 58),\n",
       " datetime.datetime(1985, 1, 1, 7, 26, 59),\n",
       " datetime.datetime(1985, 1, 1, 7, 27),\n",
       " datetime.datetime(1985, 1, 1, 7, 27, 1),\n",
       " datetime.datetime(1985, 1, 1, 7, 27, 2),\n",
       " datetime.datetime(1985, 1, 1, 7, 27, 3),\n",
       " datetime.datetime(1985, 1, 1, 7, 27, 4),\n",
       " datetime.datetime(1985, 1, 1, 7, 27, 5),\n",
       " datetime.datetime(1985, 1, 1, 7, 27, 6),\n",
       " datetime.datetime(1985, 1, 1, 7, 27, 7),\n",
       " datetime.datetime(1985, 1, 1, 7, 27, 8),\n",
       " datetime.datetime(1985, 1, 1, 7, 27, 9),\n",
       " datetime.datetime(1985, 1, 1, 7, 27, 10),\n",
       " datetime.datetime(1985, 1, 1, 7, 27, 11),\n",
       " datetime.datetime(1985, 1, 1, 7, 27, 12),\n",
       " datetime.datetime(1985, 1, 1, 7, 27, 13),\n",
       " datetime.datetime(1985, 1, 1, 7, 27, 14),\n",
       " datetime.datetime(1985, 1, 1, 7, 27, 15),\n",
       " datetime.datetime(1985, 1, 1, 7, 27, 16),\n",
       " datetime.datetime(1985, 1, 1, 7, 27, 17),\n",
       " datetime.datetime(1985, 1, 1, 7, 27, 18),\n",
       " datetime.datetime(1985, 1, 1, 7, 27, 19),\n",
       " datetime.datetime(1985, 1, 1, 7, 27, 20),\n",
       " datetime.datetime(1985, 1, 1, 7, 27, 21),\n",
       " datetime.datetime(1985, 1, 1, 7, 27, 22),\n",
       " datetime.datetime(1985, 1, 1, 7, 27, 23),\n",
       " datetime.datetime(1985, 1, 1, 7, 27, 24),\n",
       " datetime.datetime(1985, 1, 1, 7, 27, 25),\n",
       " datetime.datetime(1985, 1, 1, 7, 27, 26),\n",
       " datetime.datetime(1985, 1, 1, 7, 27, 27),\n",
       " datetime.datetime(1985, 1, 1, 7, 27, 28),\n",
       " datetime.datetime(1985, 1, 1, 7, 27, 29),\n",
       " datetime.datetime(1985, 1, 1, 7, 27, 30),\n",
       " datetime.datetime(1985, 1, 1, 7, 27, 31),\n",
       " datetime.datetime(1985, 1, 1, 7, 27, 32),\n",
       " datetime.datetime(1985, 1, 1, 7, 27, 33),\n",
       " datetime.datetime(1985, 1, 1, 7, 27, 34),\n",
       " datetime.datetime(1985, 1, 1, 7, 27, 35),\n",
       " datetime.datetime(1985, 1, 1, 7, 27, 36),\n",
       " datetime.datetime(1985, 1, 1, 7, 27, 37),\n",
       " datetime.datetime(1985, 1, 1, 7, 27, 38),\n",
       " datetime.datetime(1985, 1, 1, 7, 27, 39),\n",
       " datetime.datetime(1985, 1, 1, 7, 27, 40),\n",
       " datetime.datetime(1985, 1, 1, 7, 27, 41),\n",
       " datetime.datetime(1985, 1, 1, 7, 27, 42),\n",
       " datetime.datetime(1985, 1, 1, 7, 27, 43),\n",
       " datetime.datetime(1985, 1, 1, 7, 27, 44),\n",
       " datetime.datetime(1985, 1, 1, 7, 27, 45),\n",
       " datetime.datetime(1985, 1, 1, 7, 27, 46),\n",
       " datetime.datetime(1985, 1, 1, 7, 27, 47),\n",
       " datetime.datetime(1985, 1, 1, 7, 27, 48),\n",
       " datetime.datetime(1985, 1, 1, 7, 27, 49),\n",
       " datetime.datetime(1985, 1, 1, 7, 27, 50),\n",
       " datetime.datetime(1985, 1, 1, 7, 27, 51),\n",
       " datetime.datetime(1985, 1, 1, 7, 27, 52),\n",
       " datetime.datetime(1985, 1, 1, 7, 27, 53),\n",
       " datetime.datetime(1985, 1, 1, 7, 27, 54),\n",
       " datetime.datetime(1985, 1, 1, 7, 27, 55),\n",
       " datetime.datetime(1985, 1, 1, 7, 27, 56),\n",
       " datetime.datetime(1985, 1, 1, 7, 27, 57),\n",
       " datetime.datetime(1985, 1, 1, 7, 27, 58),\n",
       " datetime.datetime(1985, 1, 1, 7, 27, 59),\n",
       " datetime.datetime(1985, 1, 1, 7, 28),\n",
       " datetime.datetime(1985, 1, 1, 7, 28, 1),\n",
       " datetime.datetime(1985, 1, 1, 7, 28, 2),\n",
       " datetime.datetime(1985, 1, 1, 7, 28, 3),\n",
       " datetime.datetime(1985, 1, 1, 7, 28, 4),\n",
       " datetime.datetime(1985, 1, 1, 7, 28, 5),\n",
       " datetime.datetime(1985, 1, 1, 7, 28, 6),\n",
       " datetime.datetime(1985, 1, 1, 7, 28, 7),\n",
       " datetime.datetime(1985, 1, 1, 7, 28, 8),\n",
       " datetime.datetime(1985, 1, 1, 7, 28, 9),\n",
       " datetime.datetime(1985, 1, 1, 7, 28, 10),\n",
       " datetime.datetime(1985, 1, 1, 7, 28, 11),\n",
       " datetime.datetime(1985, 1, 1, 7, 28, 12),\n",
       " datetime.datetime(1985, 1, 1, 7, 28, 13),\n",
       " datetime.datetime(1985, 1, 1, 7, 28, 14),\n",
       " datetime.datetime(1985, 1, 1, 7, 28, 15),\n",
       " datetime.datetime(1985, 1, 1, 7, 28, 16),\n",
       " datetime.datetime(1985, 1, 1, 7, 28, 17),\n",
       " datetime.datetime(1985, 1, 1, 7, 28, 18),\n",
       " datetime.datetime(1985, 1, 1, 7, 28, 19),\n",
       " datetime.datetime(1985, 1, 1, 7, 28, 20),\n",
       " datetime.datetime(1985, 1, 1, 7, 28, 21),\n",
       " datetime.datetime(1985, 1, 1, 7, 28, 22),\n",
       " datetime.datetime(1985, 1, 1, 7, 28, 23),\n",
       " datetime.datetime(1985, 1, 1, 7, 28, 24),\n",
       " datetime.datetime(1985, 1, 1, 7, 28, 25),\n",
       " datetime.datetime(1985, 1, 1, 7, 28, 26),\n",
       " datetime.datetime(1985, 1, 1, 7, 28, 27),\n",
       " datetime.datetime(1985, 1, 1, 7, 28, 28),\n",
       " datetime.datetime(1985, 1, 1, 7, 28, 29),\n",
       " datetime.datetime(1985, 1, 1, 7, 28, 30),\n",
       " datetime.datetime(1985, 1, 1, 7, 28, 31),\n",
       " datetime.datetime(1985, 1, 1, 7, 28, 32),\n",
       " datetime.datetime(1985, 1, 1, 7, 28, 33),\n",
       " datetime.datetime(1985, 1, 1, 7, 28, 34),\n",
       " datetime.datetime(1985, 1, 1, 7, 28, 35),\n",
       " datetime.datetime(1985, 1, 1, 7, 28, 36),\n",
       " datetime.datetime(1985, 1, 1, 7, 28, 37),\n",
       " datetime.datetime(1985, 1, 1, 7, 28, 38),\n",
       " datetime.datetime(1985, 1, 1, 7, 28, 39),\n",
       " datetime.datetime(1985, 1, 1, 7, 28, 40),\n",
       " datetime.datetime(1985, 1, 1, 7, 28, 41),\n",
       " datetime.datetime(1985, 1, 1, 7, 28, 42),\n",
       " datetime.datetime(1985, 1, 1, 7, 28, 43),\n",
       " datetime.datetime(1985, 1, 1, 7, 28, 44),\n",
       " datetime.datetime(1985, 1, 1, 7, 28, 45),\n",
       " datetime.datetime(1985, 1, 1, 7, 28, 46),\n",
       " datetime.datetime(1985, 1, 1, 7, 28, 47),\n",
       " datetime.datetime(1985, 1, 1, 7, 28, 48)]"
      ]
     },
     "execution_count": 29,
     "metadata": {},
     "output_type": "execute_result"
    }
   ],
   "source": [
    "hey"
   ]
  },
  {
   "cell_type": "code",
   "execution_count": null,
   "metadata": {},
   "outputs": [],
   "source": []
  }
 ],
 "metadata": {
  "kernelspec": {
   "display_name": "Python 3",
   "language": "python",
   "name": "python3"
  },
  "language_info": {
   "codemirror_mode": {
    "name": "ipython",
    "version": 3
   },
   "file_extension": ".py",
   "mimetype": "text/x-python",
   "name": "python",
   "nbconvert_exporter": "python",
   "pygments_lexer": "ipython3",
   "version": "3.7.3"
  }
 },
 "nbformat": 4,
 "nbformat_minor": 2
}
